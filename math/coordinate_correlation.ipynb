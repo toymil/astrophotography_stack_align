{
 "cells": [
  {
   "cell_type": "code",
   "execution_count": 1,
   "metadata": {},
   "outputs": [],
   "source": [
    "import sympy as sy\n",
    "import sympy.vector as syv\n",
    "\n",
    "sy.init_printing()"
   ]
  },
  {
   "cell_type": "code",
   "execution_count": 2,
   "metadata": {},
   "outputs": [],
   "source": [
    "N = syv.CoordSys3D(r'N')\n",
    "\n",
    "theta_r = sy.symbols(r'\\theta_{r}', real=True)\n",
    "phi_r = sy.symbols(r'\\phi_{r}', real=True)\n",
    "\n",
    "A = sy.sin(theta_r) * sy.cos(phi_r)\n",
    "B = sy.sin(theta_r) * sy.sin(phi_r)\n",
    "C = sy.cos(theta_r)\n",
    "\n",
    "DA = sy.Dummy(r'A')\n",
    "DB = sy.Dummy(r'B')\n",
    "DC = sy.Dummy(r'C')\n",
    "\n",
    "r_c1 = sy.symbols(r'r_{c1}', real=True, positive=True)\n",
    "theta_c1 = sy.symbols(r'\\theta_{c1}', real=True)\n",
    "phi_c1 = sy.symbols(r'\\phi_{c1}', real=True)"
   ]
  },
  {
   "cell_type": "markdown",
   "metadata": {},
   "source": [
    "represent vectors"
   ]
  },
  {
   "cell_type": "code",
   "execution_count": 3,
   "metadata": {},
   "outputs": [],
   "source": [
    "r_r = r_c1 / (A*sy.sin(theta_c1)*sy.cos(phi_c1) + B*sy.sin(theta_c1)*sy.sin(phi_c1) + C*sy.cos(theta_c1))\n",
    "\n",
    "v_r = (A*N.i + B*N.j + C*N.k) * r_r\n",
    "v_c1 = (sy.sin(theta_c1)*sy.cos(phi_c1)*N.i + sy.sin(theta_c1)*sy.sin(phi_c1)*N.j + sy.cos(theta_c1)*N.k) * r_c1\n",
    "v_r_0 = r_r.subs(theta_r, 0)*N.k - v_c1\n",
    "v_rp = v_r - v_c1"
   ]
  },
  {
   "cell_type": "markdown",
   "metadata": {},
   "source": [
    "represent target coordinates on the image plan"
   ]
  },
  {
   "cell_type": "code",
   "execution_count": 4,
   "metadata": {},
   "outputs": [],
   "source": [
    "xp_1 = v_rp.magnitude() * ((v_r_0 & v_rp) / (v_r_0.magnitude() * v_rp.magnitude()))\n",
    "yp_1 = v_rp.magnitude() * ((v_r_0 ^ v_rp) / (v_r_0.magnitude() * v_rp.magnitude())) & (v_c1 / v_c1.magnitude())\n",
    "\n",
    "DXP1 = sy.Dummy(r'x^{\\prime}_{1}')\n",
    "DYP1 = sy.Dummy(r'y^{\\prime}_{1}')"
   ]
  },
  {
   "cell_type": "markdown",
   "metadata": {},
   "source": [
    "## manipulate $x^{\\prime}_{1}$ and $y^{\\prime}_{1}$"
   ]
  },
  {
   "cell_type": "code",
   "execution_count": 5,
   "metadata": {},
   "outputs": [
    {
     "data": {
      "image/png": "[encoded data removed]",
      "text/latex": [
       "$\\displaystyle - \\frac{A r_{c1} \\sin{\\left(\\theta_{c1} \\right)} \\cos{\\left(\\phi_{c1} \\right)} \\left|{\\frac{\\cos{\\left(\\theta_{c1} \\right)}}{\\sin{\\left(\\theta_{c1} \\right)}}}\\right|}{A \\sin{\\left(\\theta_{c1} \\right)} \\cos{\\left(\\phi_{c1} \\right)} + B \\sin{\\left(\\phi_{c1} \\right)} \\sin{\\left(\\theta_{c1} \\right)} + C \\cos{\\left(\\theta_{c1} \\right)}} - \\frac{B r_{c1} \\sin{\\left(\\phi_{c1} \\right)} \\sin{\\left(\\theta_{c1} \\right)} \\left|{\\frac{\\cos{\\left(\\theta_{c1} \\right)}}{\\sin{\\left(\\theta_{c1} \\right)}}}\\right|}{A \\sin{\\left(\\theta_{c1} \\right)} \\cos{\\left(\\phi_{c1} \\right)} + B \\sin{\\left(\\phi_{c1} \\right)} \\sin{\\left(\\theta_{c1} \\right)} + C \\cos{\\left(\\theta_{c1} \\right)}} + \\frac{C r_{c1} \\sin{\\left(\\theta_{c1} \\right)} \\tan{\\left(\\theta_{c1} \\right)} \\left|{\\frac{\\cos{\\left(\\theta_{c1} \\right)}}{\\sin{\\left(\\theta_{c1} \\right)}}}\\right|}{A \\sin{\\left(\\theta_{c1} \\right)} \\cos{\\left(\\phi_{c1} \\right)} + B \\sin{\\left(\\phi_{c1} \\right)} \\sin{\\left(\\theta_{c1} \\right)} + C \\cos{\\left(\\theta_{c1} \\right)}}$"
      ],
      "text/plain": [
       "                                                          │cos(\\theta_{c1})│  \n",
       "                 A⋅r_{c1}⋅sin(\\theta_{c1})⋅cos(\\phi_{c1})⋅│────────────────│  \n",
       "                                                          │sin(\\theta_{c1})│  \n",
       "- ────────────────────────────────────────────────────────────────────────────\n",
       "  A⋅sin(\\theta_{c1})⋅cos(\\phi_{c1}) + B⋅sin(\\phi_{c1})⋅sin(\\theta_{c1}) + C⋅co\n",
       "\n",
       "                                                                         │cos(\n",
       "                                B⋅r_{c1}⋅sin(\\phi_{c1})⋅sin(\\theta_{c1})⋅│────\n",
       "                                                                         │sin(\n",
       "────────────── - ─────────────────────────────────────────────────────────────\n",
       "s(\\theta_{c1})   A⋅sin(\\theta_{c1})⋅cos(\\phi_{c1}) + B⋅sin(\\phi_{c1})⋅sin(\\the\n",
       "\n",
       "\\theta_{c1})│                                                                 \n",
       "────────────│                                 C⋅r_{c1}⋅sin(\\theta_{c1})⋅tan(\\t\n",
       "\\theta_{c1})│                                                                 \n",
       "───────────────────────────── + ──────────────────────────────────────────────\n",
       "ta_{c1}) + C⋅cos(\\theta_{c1})   A⋅sin(\\theta_{c1})⋅cos(\\phi_{c1}) + B⋅sin(\\phi\n",
       "\n",
       "           │cos(\\theta_{c1})│               \n",
       "heta_{c1})⋅│────────────────│               \n",
       "           │sin(\\theta_{c1})│               \n",
       "────────────────────────────────────────────\n",
       "_{c1})⋅sin(\\theta_{c1}) + C⋅cos(\\theta_{c1})"
      ]
     },
     "execution_count": 5,
     "metadata": {},
     "output_type": "execute_result"
    }
   ],
   "source": [
    "sy.expand(sy.expand_trig(sy.simplify(xp_1))).subs([(A, DA), (B, DB), (C, DC)])"
   ]
  },
  {
   "cell_type": "code",
   "execution_count": 6,
   "metadata": {},
   "outputs": [
    {
     "data": {
      "image/png": "[encoded data removed]",
      "text/latex": [
       "$\\displaystyle \\frac{A r_{c1} \\sin{\\left(\\phi_{c1} \\right)} \\left|{\\sin{\\left(\\theta_{c1} \\right)} \\cos{\\left(\\theta_{c1} \\right)}}\\right|}{A \\sin^{2}{\\left(\\theta_{c1} \\right)} \\cos{\\left(\\phi_{c1} \\right)} \\cos{\\left(\\theta_{c1} \\right)} + B \\sin{\\left(\\phi_{c1} \\right)} \\sin^{2}{\\left(\\theta_{c1} \\right)} \\cos{\\left(\\theta_{c1} \\right)} + C \\sin{\\left(\\theta_{c1} \\right)} \\cos^{2}{\\left(\\theta_{c1} \\right)}} - \\frac{B r_{c1} \\cos{\\left(\\phi_{c1} \\right)} \\left|{\\sin{\\left(\\theta_{c1} \\right)} \\cos{\\left(\\theta_{c1} \\right)}}\\right|}{A \\sin^{2}{\\left(\\theta_{c1} \\right)} \\cos{\\left(\\phi_{c1} \\right)} \\cos{\\left(\\theta_{c1} \\right)} + B \\sin{\\left(\\phi_{c1} \\right)} \\sin^{2}{\\left(\\theta_{c1} \\right)} \\cos{\\left(\\theta_{c1} \\right)} + C \\sin{\\left(\\theta_{c1} \\right)} \\cos^{2}{\\left(\\theta_{c1} \\right)}}$"
      ],
      "text/plain": [
       "                                          A⋅r_{c1}⋅sin(\\phi_{c1})⋅│sin(\\theta_\n",
       "──────────────────────────────────────────────────────────────────────────────\n",
       "     2                                                                    2   \n",
       "A⋅sin (\\theta_{c1})⋅cos(\\phi_{c1})⋅cos(\\theta_{c1}) + B⋅sin(\\phi_{c1})⋅sin (\\t\n",
       "\n",
       "{c1})⋅cos(\\theta_{c1})│                                                       \n",
       "────────────────────────────────────────────────────────────────── - ─────────\n",
       "                                                    2                     2   \n",
       "heta_{c1})⋅cos(\\theta_{c1}) + C⋅sin(\\theta_{c1})⋅cos (\\theta_{c1})   A⋅sin (\\t\n",
       "\n",
       "                                 B⋅r_{c1}⋅cos(\\phi_{c1})⋅│sin(\\theta_{c1})⋅cos\n",
       "──────────────────────────────────────────────────────────────────────────────\n",
       "                                                                 2            \n",
       "heta_{c1})⋅cos(\\phi_{c1})⋅cos(\\theta_{c1}) + B⋅sin(\\phi_{c1})⋅sin (\\theta_{c1}\n",
       "\n",
       "(\\theta_{c1})│                                           \n",
       "─────────────────────────────────────────────────────────\n",
       "                                           2             \n",
       ")⋅cos(\\theta_{c1}) + C⋅sin(\\theta_{c1})⋅cos (\\theta_{c1})"
      ]
     },
     "execution_count": 6,
     "metadata": {},
     "output_type": "execute_result"
    }
   ],
   "source": [
    "sy.expand(sy.expand_trig(sy.simplify(yp_1))).subs([(A, DA), (B, DB), (C, DC)])"
   ]
  },
  {
   "cell_type": "markdown",
   "metadata": {},
   "source": [
    "absorb $C$ into $A$ and $B$  \n",
    "_because absorbing $A$ or $B$ both take about 8 minutes to solve, and their results are miserable compare to absorbing $C$, which by the way only takes about 30 seconds_"
   ]
  },
  {
   "cell_type": "code",
   "execution_count": 7,
   "metadata": {},
   "outputs": [],
   "source": [
    "xp_1_AB = sy.expand(sy.expand_trig(sy.simplify(xp_1))).subs([(A, DA), (B, DB), (C, 1)])\n",
    "yp_1_AB = sy.expand(sy.expand_trig(sy.simplify(yp_1))).subs([(A, DA), (B, DB), (C, 1)])"
   ]
  },
  {
   "cell_type": "markdown",
   "metadata": {},
   "source": [
    "solve for $A$ and $B$"
   ]
  },
  {
   "cell_type": "code",
   "execution_count": 8,
   "metadata": {},
   "outputs": [],
   "source": [
    "DA_DB_dict = sy.solve([xp_1_AB - DXP1, yp_1_AB - DYP1], (DA, DB))"
   ]
  },
  {
   "cell_type": "code",
   "execution_count": 9,
   "metadata": {},
   "outputs": [
    {
     "data": {
      "image/png": "[encoded data removed]",
      "text/latex": [
       "$\\displaystyle \\left\\{ A : \\frac{2 y^{\\prime}_{1} \\sin{\\left(\\phi_{c1} \\right)} \\sin^{2}{\\left(\\theta_{c1} \\right)} - \\left(x^{\\prime}_{1} \\left|{\\sin{\\left(2 \\theta_{c1} \\right)}}\\right| - 2 r_{c1} \\sin^{2}{\\left(\\theta_{c1} \\right)}\\right) \\cos{\\left(\\phi_{c1} \\right)} \\cos{\\left(\\theta_{c1} \\right)} \\left|{\\tan{\\left(\\theta_{c1} \\right)}}\\right|}{\\left(x^{\\prime}_{1} \\left|{\\sin{\\left(2 \\theta_{c1} \\right)}}\\right| + r_{c1} \\cos{\\left(2 \\theta_{c1} \\right)} + r_{c1}\\right) \\cos{\\left(\\theta_{c1} \\right)} \\tan{\\left(\\theta_{c1} \\right)} \\left|{\\tan{\\left(\\theta_{c1} \\right)}}\\right|}, \\  B : - \\frac{2 y^{\\prime}_{1} \\sin^{2}{\\left(\\theta_{c1} \\right)} \\cos{\\left(\\phi_{c1} \\right)} + \\left(x^{\\prime}_{1} \\left|{\\sin{\\left(2 \\theta_{c1} \\right)}}\\right| - 2 r_{c1} \\sin^{2}{\\left(\\theta_{c1} \\right)}\\right) \\sin{\\left(\\phi_{c1} \\right)} \\cos{\\left(\\theta_{c1} \\right)} \\left|{\\tan{\\left(\\theta_{c1} \\right)}}\\right|}{\\left(x^{\\prime}_{1} \\left|{\\sin{\\left(2 \\theta_{c1} \\right)}}\\right| + r_{c1} \\cos{\\left(2 \\theta_{c1} \\right)} + r_{c1}\\right) \\cos{\\left(\\theta_{c1} \\right)} \\tan{\\left(\\theta_{c1} \\right)} \\left|{\\tan{\\left(\\theta_{c1} \\right)}}\\right|}\\right\\}$"
      ],
      "text/plain": [
       "⎧                                       2                ⎛                    \n",
       "⎪   2⋅y_{1}__{\\prime}⋅sin(\\phi_{c1})⋅sin (\\theta_{c1}) - ⎝x_{1}__{\\prime}⋅│sin\n",
       "⎨A: ──────────────────────────────────────────────────────────────────────────\n",
       "⎪                         (x_{1}__{\\prime}⋅│sin(2⋅\\theta_{c1})│ + r_{c1}⋅cos(2\n",
       "⎩                                                                             \n",
       "\n",
       "                               2             ⎞                                \n",
       "(2⋅\\theta_{c1})│ - 2⋅r_{c1}⋅sin (\\theta_{c1})⎠⋅cos(\\phi_{c1})⋅cos(\\theta_{c1})\n",
       "──────────────────────────────────────────────────────────────────────────────\n",
       "⋅\\theta_{c1}) + r_{c1})⋅cos(\\theta_{c1})⋅tan(\\theta_{c1})⋅│tan(\\theta_{c1})│  \n",
       "                                                                              \n",
       "\n",
       "                         ⎛                     2                              \n",
       "⋅│tan(\\theta_{c1})│     -⎝2⋅y_{1}__{\\prime}⋅sin (\\theta_{c1})⋅cos(\\phi_{c1}) +\n",
       "───────────────────, B: ──────────────────────────────────────────────────────\n",
       "                                                (x_{1}__{\\prime}⋅│sin(2⋅\\theta\n",
       "                                                                              \n",
       "\n",
       " ⎛                                                   2             ⎞          \n",
       " ⎝x_{1}__{\\prime}⋅│sin(2⋅\\theta_{c1})│ - 2⋅r_{c1}⋅sin (\\theta_{c1})⎠⋅sin(\\phi_\n",
       "──────────────────────────────────────────────────────────────────────────────\n",
       "_{c1})│ + r_{c1}⋅cos(2⋅\\theta_{c1}) + r_{c1})⋅cos(\\theta_{c1})⋅tan(\\theta_{c1}\n",
       "                                                                              \n",
       "\n",
       "                                         ⎞ ⎫\n",
       "{c1})⋅cos(\\theta_{c1})⋅│tan(\\theta_{c1})│⎠ ⎪\n",
       "───────────────────────────────────────────⎬\n",
       ")⋅│tan(\\theta_{c1})│                       ⎪\n",
       "                                           ⎭"
      ]
     },
     "execution_count": 9,
     "metadata": {},
     "output_type": "execute_result"
    }
   ],
   "source": [
    "DA_DB_dict"
   ]
  },
  {
   "cell_type": "markdown",
   "metadata": {},
   "source": [
    "## prepare $x^{\\prime}_{2}$ and $y^{\\prime}_{2}$ to have a common denominator"
   ]
  },
  {
   "cell_type": "markdown",
   "metadata": {},
   "source": [
    "define symbols and represent coordinates"
   ]
  },
  {
   "cell_type": "code",
   "execution_count": 10,
   "metadata": {},
   "outputs": [],
   "source": [
    "r_c2 = sy.symbols(r'r_{c2}', real=True, positive=True)\n",
    "theta_c2 = sy.symbols(r'\\theta_{c2}', real=True)\n",
    "phi_c2 = sy.symbols(r'\\phi_{c2}', real=True)\n",
    "\n",
    "xp_2 = xp_1_AB.subs([(r_c1, r_c2), (theta_c1, theta_c2), (phi_c1, phi_c2)])\n",
    "yp_2 = yp_1_AB.subs([(r_c1, r_c2), (theta_c1, theta_c2), (phi_c1, phi_c2)])\n",
    "\n",
    "DXP2 = sy.Dummy(r'x^{\\prime}_{2}')\n",
    "DYP2 = sy.Dummy(r'y^{\\prime}_{2}')"
   ]
  },
  {
   "cell_type": "code",
   "execution_count": 11,
   "metadata": {},
   "outputs": [
    {
     "data": {
      "image/png": "[encoded data removed]",
      "text/latex": [
       "$\\displaystyle \\frac{r_{c2} \\left(- A \\cos{\\left(\\phi_{c2} \\right)} - B \\sin{\\left(\\phi_{c2} \\right)} + \\tan{\\left(\\theta_{c2} \\right)}\\right) \\sin{\\left(\\theta_{c2} \\right)}}{\\left(A \\sin{\\left(\\theta_{c2} \\right)} \\cos{\\left(\\phi_{c2} \\right)} + B \\sin{\\left(\\phi_{c2} \\right)} \\sin{\\left(\\theta_{c2} \\right)} + \\cos{\\left(\\theta_{c2} \\right)}\\right) \\left|{\\tan{\\left(\\theta_{c2} \\right)}}\\right|}$"
      ],
      "text/plain": [
       "              r_{c2}⋅(-A⋅cos(\\phi_{c2}) - B⋅sin(\\phi_{c2}) + tan(\\theta_{c2}))\n",
       "──────────────────────────────────────────────────────────────────────────────\n",
       "(A⋅sin(\\theta_{c2})⋅cos(\\phi_{c2}) + B⋅sin(\\phi_{c2})⋅sin(\\theta_{c2}) + cos(\\\n",
       "\n",
       "⋅sin(\\theta_{c2})              \n",
       "───────────────────────────────\n",
       "theta_{c2}))⋅│tan(\\theta_{c2})│"
      ]
     },
     "execution_count": 11,
     "metadata": {},
     "output_type": "execute_result"
    }
   ],
   "source": [
    "sy.simplify(xp_2)"
   ]
  },
  {
   "cell_type": "code",
   "execution_count": 12,
   "metadata": {},
   "outputs": [
    {
     "data": {
      "image/png": "[encoded data removed]",
      "text/latex": [
       "$\\displaystyle \\frac{r_{c2} \\left(A \\sin{\\left(\\phi_{c2} \\right)} - B \\cos{\\left(\\phi_{c2} \\right)}\\right) \\left|{\\sin{\\left(2 \\theta_{c2} \\right)}}\\right|}{2 \\left(A \\sin{\\left(\\theta_{c2} \\right)} \\cos{\\left(\\phi_{c2} \\right)} + B \\sin{\\left(\\phi_{c2} \\right)} \\sin{\\left(\\theta_{c2} \\right)} + \\cos{\\left(\\theta_{c2} \\right)}\\right) \\sin{\\left(\\theta_{c2} \\right)} \\cos{\\left(\\theta_{c2} \\right)}}$"
      ],
      "text/plain": [
       "                              r_{c2}⋅(A⋅sin(\\phi_{c2}) - B⋅cos(\\phi_{c2}))⋅│si\n",
       "──────────────────────────────────────────────────────────────────────────────\n",
       "2⋅(A⋅sin(\\theta_{c2})⋅cos(\\phi_{c2}) + B⋅sin(\\phi_{c2})⋅sin(\\theta_{c2}) + cos\n",
       "\n",
       "n(2⋅\\theta_{c2})│                               \n",
       "────────────────────────────────────────────────\n",
       "(\\theta_{c2}))⋅sin(\\theta_{c2})⋅cos(\\theta_{c2})"
      ]
     },
     "execution_count": 12,
     "metadata": {},
     "output_type": "execute_result"
    }
   ],
   "source": [
    "sy.simplify(yp_2)"
   ]
  },
  {
   "cell_type": "markdown",
   "metadata": {},
   "source": [
    "define common denominator and individual numerator"
   ]
  },
  {
   "cell_type": "code",
   "execution_count": 13,
   "metadata": {},
   "outputs": [],
   "source": [
    "CD = DA*sy.sin(theta_c2)*sy.cos(phi_c2) + DB*sy.sin(theta_c2)*sy.sin(phi_c2) + sy.cos(theta_c2)\n",
    "DCD = sy.Dummy(r'D')\n",
    "\n",
    "xp_2_numerator = sy.simplify(xp_2).subs(CD, DCD) * DCD\n",
    "yp_2_numerator = sy.simplify(yp_2).subs(CD, DCD) * DCD"
   ]
  },
  {
   "cell_type": "code",
   "execution_count": 14,
   "metadata": {},
   "outputs": [
    {
     "data": {
      "image/png": "[encoded data removed]",
      "text/latex": [
       "$\\displaystyle A \\sin{\\left(\\theta_{c2} \\right)} \\cos{\\left(\\phi_{c2} \\right)} + B \\sin{\\left(\\phi_{c2} \\right)} \\sin{\\left(\\theta_{c2} \\right)} + \\cos{\\left(\\theta_{c2} \\right)}$"
      ],
      "text/plain": [
       "A⋅sin(\\theta_{c2})⋅cos(\\phi_{c2}) + B⋅sin(\\phi_{c2})⋅sin(\\theta_{c2}) + cos(\\t\n",
       "heta_{c2})"
      ]
     },
     "execution_count": 14,
     "metadata": {},
     "output_type": "execute_result"
    }
   ],
   "source": [
    "CD"
   ]
  },
  {
   "cell_type": "code",
   "execution_count": 15,
   "metadata": {},
   "outputs": [
    {
     "data": {
      "image/png": "[encoded data removed]",
      "text/latex": [
       "$\\displaystyle \\frac{r_{c2} \\left(- A \\cos{\\left(\\phi_{c2} \\right)} - B \\sin{\\left(\\phi_{c2} \\right)} + \\tan{\\left(\\theta_{c2} \\right)}\\right) \\sin{\\left(\\theta_{c2} \\right)}}{\\left|{\\tan{\\left(\\theta_{c2} \\right)}}\\right|}$"
      ],
      "text/plain": [
       "r_{c2}⋅(-A⋅cos(\\phi_{c2}) - B⋅sin(\\phi_{c2}) + tan(\\theta_{c2}))⋅sin(\\theta_{c\n",
       "──────────────────────────────────────────────────────────────────────────────\n",
       "                                │tan(\\theta_{c2})│                            \n",
       "\n",
       "2})\n",
       "───\n",
       "   "
      ]
     },
     "execution_count": 15,
     "metadata": {},
     "output_type": "execute_result"
    }
   ],
   "source": [
    "xp_2_numerator"
   ]
  },
  {
   "cell_type": "code",
   "execution_count": 16,
   "metadata": {},
   "outputs": [
    {
     "data": {
      "image/png": "[encoded data removed]",
      "text/latex": [
       "$\\displaystyle \\frac{r_{c2} \\left(A \\sin{\\left(\\phi_{c2} \\right)} - B \\cos{\\left(\\phi_{c2} \\right)}\\right) \\left|{\\sin{\\left(2 \\theta_{c2} \\right)}}\\right|}{2 \\sin{\\left(\\theta_{c2} \\right)} \\cos{\\left(\\theta_{c2} \\right)}}$"
      ],
      "text/plain": [
       "r_{c2}⋅(A⋅sin(\\phi_{c2}) - B⋅cos(\\phi_{c2}))⋅│sin(2⋅\\theta_{c2})│\n",
       "─────────────────────────────────────────────────────────────────\n",
       "               2⋅sin(\\theta_{c2})⋅cos(\\theta_{c2})               "
      ]
     },
     "execution_count": 16,
     "metadata": {},
     "output_type": "execute_result"
    }
   ],
   "source": [
    "yp_2_numerator"
   ]
  },
  {
   "cell_type": "markdown",
   "metadata": {},
   "source": [
    "## substitude $A$ and $B$ in $x^{\\prime}_{2}$, $y^{\\prime}_{2}$ using the solve result"
   ]
  },
  {
   "cell_type": "code",
   "execution_count": 17,
   "metadata": {},
   "outputs": [
    {
     "data": {
      "text/plain": [
       "True"
      ]
     },
     "execution_count": 17,
     "metadata": {},
     "output_type": "execute_result"
    }
   ],
   "source": [
    "sy.fraction(DA_DB_dict[DA])[1] == sy.fraction(DA_DB_dict[DB])[1]"
   ]
  },
  {
   "cell_type": "markdown",
   "metadata": {},
   "source": [
    "notice that $A$ and $B$ have a common denominator, we will multiply the numerator and denominator of $x^{\\prime}_{2}$, $y^{\\prime}_{2}$ by this common denominator, to make them polynomials of $x^{\\prime}_{1}$ and $y^{\\prime}_{1}$"
   ]
  },
  {
   "cell_type": "code",
   "execution_count": 18,
   "metadata": {},
   "outputs": [],
   "source": [
    "CD_p = sy.collect(\n",
    "    sy.expand(sy.expand_trig(sy.simplify(\n",
    "        sy.expand(sy.expand_trig(sy.simplify(\n",
    "            CD\n",
    "        ))).subs([(DA, DA_DB_dict[DA]), (DB, DA_DB_dict[DB])])\n",
    "        * sy.fraction(DA_DB_dict[DA])[1]))\n",
    "    ),\n",
    "    (DXP1, DYP1)\n",
    ")\n",
    "\n",
    "xp_2_numerator_p = sy.collect(\n",
    "    sy.expand(sy.expand_trig(sy.simplify(\n",
    "        sy.expand(sy.expand_trig(sy.simplify(\n",
    "            xp_2_numerator\n",
    "        ))).subs([(DA, DA_DB_dict[DA]), (DB, DA_DB_dict[DB])])\n",
    "        * sy.fraction(DA_DB_dict[DA])[1]))\n",
    "    ),\n",
    "    (DXP1, DYP1)\n",
    ")\n",
    "\n",
    "yp_2_numerator_p = sy.collect(\n",
    "    sy.expand(sy.expand_trig(sy.simplify(\n",
    "        sy.expand(sy.expand_trig(sy.simplify(\n",
    "            yp_2_numerator\n",
    "        ))).subs([(DA, DA_DB_dict[DA]), (DB, DA_DB_dict[DB])])\n",
    "        * sy.fraction(DA_DB_dict[DA])[1]))\n",
    "    ),\n",
    "    (DXP1, DYP1)\n",
    ")"
   ]
  },
  {
   "cell_type": "markdown",
   "metadata": {},
   "source": [
    "extract the coefficients of $x^{\\prime}_{1}$, $y^{\\prime}_{1}$"
   ]
  },
  {
   "cell_type": "code",
   "execution_count": 19,
   "metadata": {},
   "outputs": [],
   "source": [
    "m11 = xp_2_numerator_p.coeff(DXP1)\n",
    "m12 = xp_2_numerator_p.coeff(DYP1)\n",
    "m13 = xp_2_numerator_p - m11*DXP1 - m12*DYP1\n",
    "\n",
    "m21 = yp_2_numerator_p.coeff(DXP1)\n",
    "m22 = yp_2_numerator_p.coeff(DYP1)\n",
    "m23 = yp_2_numerator_p - m21*DXP1 - m22*DYP1\n",
    "\n",
    "m31 = CD_p.coeff(DXP1)\n",
    "m32 = CD_p.coeff(DYP1)\n",
    "m33 = CD_p - m31*DXP1 - m32*DYP1"
   ]
  },
  {
   "cell_type": "code",
   "execution_count": 20,
   "metadata": {},
   "outputs": [],
   "source": [
    "xp_2_f = (m11*DXP1 + m12*DYP1 + m13) / (m31*DXP1 + m32*DYP1 + m33)\n",
    "yp_2_f = (m21*DXP1 + m22*DYP1 + m23) / (m31*DXP1 + m32*DYP1 + m33)"
   ]
  },
  {
   "cell_type": "markdown",
   "metadata": {},
   "source": [
    "## result"
   ]
  },
  {
   "cell_type": "markdown",
   "metadata": {},
   "source": [
    "\\begin{align}\n",
    "    m_{11} &= 2 r_{c2} \\left(\\sin{\\left(\\theta_{c1} \\right)} + \\frac{\\cos{\\left(\\theta_{c1} \\right)} \\cos{\\left(\\phi_{c1} - \\phi_{c2} \\right)}}{\\tan{\\left(\\theta_{c2} \\right)}}\\right) \\sin^{2}{\\left(\\theta_{c1} \\right)} \\cos{\\left(\\theta_{c2} \\right)} \\left|{\\tan{\\left(\\theta_{c2} \\right)}}\\right| \\\\\n",
    "    m_{12} &= - \\frac{2 r_{c2} \\sin^{2}{\\left(\\theta_{c1} \\right)} \\sin{\\left(\\theta_{c2} \\right)} \\sin{\\left(\\phi_{c1} - \\phi_{c2} \\right)} \\left|{\\tan{\\left(\\theta_{c2} \\right)}}\\right|}{\\tan^{2}{\\left(\\theta_{c2} \\right)}} \\\\\n",
    "    m_{13} &= 2 r_{c1} r_{c2} \\left(- \\frac{\\sin{\\left(\\theta_{c1} \\right)} \\cos{\\left(\\phi_{c1} - \\phi_{c2} \\right)}}{\\tan{\\left(\\theta_{c2} \\right)}} + \\cos{\\left(\\theta_{c1} \\right)}\\right) \\sin{\\left(\\theta_{c1} \\right)} \\cos{\\left(\\theta_{c1} \\right)} \\cos{\\left(\\theta_{c2} \\right)} \\left|{\\tan{\\left(\\theta_{c1} \\right)} \\tan{\\left(\\theta_{c2} \\right)}}\\right| \\\\\n",
    "\\end{align}\n",
    "\n",
    "\\begin{align}\n",
    "    m_{21} &= \\frac{r_{c2} \\sin^{2}{\\left(\\theta_{c1} \\right)} \\sin{\\left(\\phi_{c1} - \\phi_{c2} \\right)} \\cos{\\left(\\theta_{c1} \\right)} \\left|{\\sin{\\left(2 \\theta_{c2} \\right)}}\\right|}{\\sin{\\left(\\theta_{c2} \\right)} \\cos{\\left(\\theta_{c2} \\right)}} \\\\\n",
    "    m_{22} &= \\frac{r_{c2} \\sin^{2}{\\left(\\theta_{c1} \\right)} \\cos{\\left(\\phi_{c1} - \\phi_{c2} \\right)} \\left|{\\sin{\\left(2 \\theta_{c2} \\right)}}\\right|}{\\sin{\\left(\\theta_{c2} \\right)} \\cos{\\left(\\theta_{c2} \\right)}} \\\\\n",
    "    m_{23} &= \\frac{r_{c1} r_{c2} \\left(\\cos{\\left(2 \\theta_{c1} \\right)} - 1\\right)^{2} \\sin{\\left(\\phi_{c1} - \\phi_{c2} \\right)} \\left|{\\frac{\\sin{\\left(2 \\theta_{c2} \\right)}}{\\tan{\\left(\\theta_{c1} \\right)}}}\\right|}{\\sin{\\left(\\theta_{c1} - 2 \\theta_{c2} \\right)} - \\sin{\\left(\\theta_{c1} + 2 \\theta_{c2} \\right)}} \\\\\n",
    "\\end{align}\n",
    "\n",
    "\\begin{align}\n",
    "    m_{31} &= 2 \\left(\\sin{\\left(\\theta_{c1} \\right)} \\cos{\\left(\\theta_{c2} \\right)} - \\sin{\\left(\\theta_{c2} \\right)} \\cos{\\left(\\theta_{c1} \\right)} \\cos{\\left(\\phi_{c1} - \\phi_{c2} \\right)}\\right) \\sin^{2}{\\left(\\theta_{c1} \\right)} \\\\\n",
    "    m_{32} &= 2 \\sin^{2}{\\left(\\theta_{c1} \\right)} \\sin{\\left(\\theta_{c2} \\right)} \\sin{\\left(\\phi_{c1} - \\phi_{c2} \\right)} \\\\\n",
    "    m_{33} &= 2 r_{c1} \\left(\\sin{\\left(\\theta_{c1} \\right)} \\sin{\\left(\\theta_{c2} \\right)} \\cos{\\left(\\phi_{c1} - \\phi_{c2} \\right)} + \\cos{\\left(\\theta_{c1} \\right)} \\cos{\\left(\\theta_{c2} \\right)}\\right) \\sin{\\left(\\theta_{c1} \\right)} \\cos{\\left(\\theta_{c1} \\right)} \\left|{\\tan{\\left(\\theta_{c1} \\right)}}\\right| \\\\\n",
    "\\end{align}\n",
    "\n",
    "\\begin{align}\n",
    "    x^{\\prime}_{2} &= \\frac{m_{11} x^{\\prime}_{1} + m_{12} y^{\\prime}_{1} + m_{13}}{m_{31} x^{\\prime}_{1} + m_{32} y^{\\prime}_{1} + m_{33}} \\\\\n",
    "    y^{\\prime}_{2} &= \\frac{m_{21} x^{\\prime}_{1} + m_{22} y^{\\prime}_{1} + m_{23}}{m_{31} x^{\\prime}_{1} + m_{32} y^{\\prime}_{1} + m_{33}} \\\\\n",
    "\\end{align}"
   ]
  },
  {
   "cell_type": "markdown",
   "metadata": {},
   "source": [
    "## verify that nothing has gone wrong in the process"
   ]
  },
  {
   "cell_type": "markdown",
   "metadata": {},
   "source": [
    "dependency"
   ]
  },
  {
   "cell_type": "code",
   "execution_count": 21,
   "metadata": {},
   "outputs": [
    {
     "data": {
      "image/png": "[encoded data removed]",
      "text/latex": [
       "$\\displaystyle \\left\\{\\phi_{c1}, \\phi_{c2}, \\theta_{c1}, \\theta_{c2}, r_{c1}, r_{c2}\\right\\}$"
      ],
      "text/plain": [
       "{\\phi_{c1}, \\phi_{c2}, \\theta_{c1}, \\theta_{c2}, r_{c1}, r_{c2}}"
      ]
     },
     "execution_count": 21,
     "metadata": {},
     "output_type": "execute_result"
    }
   ],
   "source": [
    "(m11 + m12 + m13 + m21 + m22 + m23 + m31 + m32 + m33).free_symbols"
   ]
  },
  {
   "cell_type": "code",
   "execution_count": null,
   "metadata": {},
   "outputs": [],
   "source": []
  },
  {
   "cell_type": "markdown",
   "metadata": {},
   "source": [
    "directly substitude after absorbtion"
   ]
  },
  {
   "cell_type": "code",
   "execution_count": 22,
   "metadata": {},
   "outputs": [],
   "source": [
    "xp_2_t = xp_2.subs([(DA, DA_DB_dict[DA]), (DB, DA_DB_dict[DB])])\n",
    "yp_2_t = yp_2.subs([(DA, DA_DB_dict[DA]), (DB, DA_DB_dict[DB])])"
   ]
  },
  {
   "cell_type": "code",
   "execution_count": 23,
   "metadata": {},
   "outputs": [],
   "source": [
    "n, d = sy.fraction(sy.simplify(xp_2_t))\n",
    "t = sy.collect(sy.expand(sy.expand_trig(d)), (DXP1, DYP1))\n",
    "tm21 = t.coeff(DXP1)\n",
    "tm22 = t.coeff(DYP1)\n",
    "tm23 = t - tm21*DXP1 - tm22*DYP1\n",
    "\n",
    "n, d = sy.fraction(sy.simplify(yp_2_t))\n",
    "t = sy.collect(sy.expand(sy.expand_trig(d)), (DXP1, DYP1))\n",
    "tm41 = t.coeff(DXP1)\n",
    "tm42 = t.coeff(DYP1)\n",
    "tm43 = t - tm41*DXP1 - tm42*DYP1"
   ]
  },
  {
   "cell_type": "code",
   "execution_count": 24,
   "metadata": {},
   "outputs": [
    {
     "data": {
      "image/png": "[encoded data removed]",
      "text/latex": [
       "$\\displaystyle \\left\\{\\phi_{c1}, \\phi_{c2}, \\theta_{c1}, \\theta_{c2}, r_{c1}\\right\\}$"
      ],
      "text/plain": [
       "{\\phi_{c1}, \\phi_{c2}, \\theta_{c1}, \\theta_{c2}, r_{c1}}"
      ]
     },
     "execution_count": 24,
     "metadata": {},
     "output_type": "execute_result"
    }
   ],
   "source": [
    "(tm21 + tm22 + tm23 + tm41 + tm42 + tm43).free_symbols"
   ]
  },
  {
   "cell_type": "code",
   "execution_count": 25,
   "metadata": {},
   "outputs": [
    {
     "data": {
      "image/png": "[encoded data removed]",
      "text/latex": [
       "$\\displaystyle 0$"
      ],
      "text/plain": [
       "0"
      ]
     },
     "execution_count": 25,
     "metadata": {},
     "output_type": "execute_result"
    }
   ],
   "source": [
    "sy.simplify(tm21/tm41 - tm22/tm42)"
   ]
  },
  {
   "cell_type": "code",
   "execution_count": 26,
   "metadata": {},
   "outputs": [
    {
     "data": {
      "image/png": "[encoded data removed]",
      "text/latex": [
       "$\\displaystyle 0$"
      ],
      "text/plain": [
       "0"
      ]
     },
     "execution_count": 26,
     "metadata": {},
     "output_type": "execute_result"
    }
   ],
   "source": [
    "sy.simplify(tm22/tm42 - tm23/tm43)"
   ]
  },
  {
   "cell_type": "code",
   "execution_count": 27,
   "metadata": {},
   "outputs": [
    {
     "data": {
      "image/png": "[encoded data removed]",
      "text/latex": [
       "$\\displaystyle 0$"
      ],
      "text/plain": [
       "0"
      ]
     },
     "execution_count": 27,
     "metadata": {},
     "output_type": "execute_result"
    }
   ],
   "source": [
    "sy.simplify(m31/tm21 - m32/tm22)"
   ]
  },
  {
   "cell_type": "code",
   "execution_count": 28,
   "metadata": {},
   "outputs": [
    {
     "data": {
      "image/png": "[encoded data removed]",
      "text/latex": [
       "$\\displaystyle 0$"
      ],
      "text/plain": [
       "0"
      ]
     },
     "execution_count": 28,
     "metadata": {},
     "output_type": "execute_result"
    }
   ],
   "source": [
    "sy.simplify(m32/tm22 - m33/tm23)"
   ]
  },
  {
   "cell_type": "code",
   "execution_count": null,
   "metadata": {},
   "outputs": [],
   "source": []
  },
  {
   "cell_type": "code",
   "execution_count": 29,
   "metadata": {},
   "outputs": [
    {
     "data": {
      "image/png": "[encoded data removed]",
      "text/latex": [
       "$\\displaystyle \\left\\{x^{\\prime}_{1}, y^{\\prime}_{1}, \\phi_{c1}, \\phi_{c2}, \\theta_{c1}, \\theta_{c2}, r_{c1}, r_{c2}\\right\\}$"
      ],
      "text/plain": [
       "{x_{1}__{\\prime}, y_{1}__{\\prime}, \\phi_{c1}, \\phi_{c2}, \\theta_{c1}, \\theta_{\n",
       "c2}, r_{c1}, r_{c2}}"
      ]
     },
     "execution_count": 29,
     "metadata": {},
     "output_type": "execute_result"
    }
   ],
   "source": [
    "xp_2_t.free_symbols"
   ]
  },
  {
   "cell_type": "code",
   "execution_count": 30,
   "metadata": {},
   "outputs": [],
   "source": [
    "import random\n",
    "tp1 = random.random() * sy.S.Pi * 2\n",
    "tp2 = random.random() * sy.S.Pi * 2\n",
    "tt1 = random.random() * sy.S.Pi\n",
    "tt2 = random.random() * sy.S.Pi\n",
    "tr1 = random.random() * sy.S.Exp1 * random.randrange(50)\n",
    "tr2 = random.random() * sy.S.Exp1 * random.randrange(50)\n",
    "txp1 = random.randrange(4000)\n",
    "typ1 = random.randrange(4000)"
   ]
  },
  {
   "cell_type": "code",
   "execution_count": 31,
   "metadata": {},
   "outputs": [
    {
     "data": {
      "text/plain": [
       "True"
      ]
     },
     "execution_count": 31,
     "metadata": {},
     "output_type": "execute_result"
    }
   ],
   "source": [
    "sy.simplify(xp_2_t).subs([\n",
    "    (DXP1, txp1),\n",
    "    (DYP1, typ1),\n",
    "    (theta_c1, tt1),\n",
    "    (theta_c2, tt2),\n",
    "    (phi_c1, tp1),\n",
    "    (phi_c2, tp2),\n",
    "    (r_c1, tr1),\n",
    "    (r_c2, tr2)\n",
    "]).evalf(100) == sy.simplify(xp_2_f).subs([\n",
    "    (DXP1, txp1),\n",
    "    (DYP1, typ1),\n",
    "    (theta_c1, tt1),\n",
    "    (theta_c2, tt2),\n",
    "    (phi_c1, tp1),\n",
    "    (phi_c2, tp2),\n",
    "    (r_c1, tr1),\n",
    "    (r_c2, tr2)\n",
    "]).evalf(100)"
   ]
  },
  {
   "cell_type": "code",
   "execution_count": 32,
   "metadata": {},
   "outputs": [
    {
     "data": {
      "text/plain": [
       "True"
      ]
     },
     "execution_count": 32,
     "metadata": {},
     "output_type": "execute_result"
    }
   ],
   "source": [
    "sy.simplify(yp_2_t).subs([\n",
    "    (DXP1, txp1),\n",
    "    (DYP1, typ1),\n",
    "    (theta_c1, tt1),\n",
    "    (theta_c2, tt2),\n",
    "    (phi_c1, tp1),\n",
    "    (phi_c2, tp2),\n",
    "    (r_c1, tr1),\n",
    "    (r_c2, tr2)\n",
    "]).evalf(100) == sy.simplify(yp_2_f).subs([\n",
    "    (DXP1, txp1),\n",
    "    (DYP1, typ1),\n",
    "    (theta_c1, tt1),\n",
    "    (theta_c2, tt2),\n",
    "    (phi_c1, tp1),\n",
    "    (phi_c2, tp2),\n",
    "    (r_c1, tr1),\n",
    "    (r_c2, tr2)\n",
    "]).evalf(100)"
   ]
  },
  {
   "cell_type": "code",
   "execution_count": null,
   "metadata": {},
   "outputs": [],
   "source": []
  }
 ],
 "metadata": {
  "kernelspec": {
   "display_name": "Python 3",
   "language": "python",
   "name": "python3"
  },
  "language_info": {
   "codemirror_mode": {
    "name": "ipython",
    "version": 3
   },
   "file_extension": ".py",
   "mimetype": "text/x-python",
   "name": "python",
   "nbconvert_exporter": "python",
   "pygments_lexer": "ipython3",
   "version": "3.8.6"
  }
 },
 "nbformat": 4,
 "nbformat_minor": 4
}
