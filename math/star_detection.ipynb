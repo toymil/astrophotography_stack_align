{
 "cells": [
  {
   "cell_type": "markdown",
   "id": "terminal-province",
   "metadata": {},
   "source": [
    "- star detection\n",
    "    - convert to grayscale\n",
    "        + and blur (for better robustness?)\n",
    "        - convert to float32, and divide by maximum value\n",
    "    + [ ] remove hot pixel (median filter)\n",
    "    - wavelet transform\n",
    "        - noise reduction (remove small-scale wavelet layer)\n",
    "        - remove background (remove large-scale wavelet layer)\n",
    "        - inverse wavelet transform\n",
    "    - detect\n",
    "        - threshold image to binary\n",
    "            - [ ] auto tune threshold paremeter\n",
    "        - find contours\n",
    "            - outer boundary: relative brightness with local background (want relatively large boundary to include all pixels for intensity centroid calculation)\n",
    "            - filter by brightness\n",
    "                - too dim: peak brightness\n",
    "                - [ ] capped brightness (not so useful in star matching)\n",
    "            - [ ] filter non-circular object: shape (`cv.minAreaRect()`)\n",
    "            - [ ] filter by size\n",
    "        - characterization\n",
    "            - find contour centroid\n",
    "                - calculate actual intensity centroid\n",
    "            - denote brightness\n",
    "- star match\n",
    "    - star field structure\n",
    "- star align\n",
    "    - calculate transform matrix"
   ]
  },
  {
   "cell_type": "code",
   "execution_count": 1,
   "id": "british-gibraltar",
   "metadata": {},
   "outputs": [],
   "source": [
    "from __future__ import annotations"
   ]
  },
  {
   "cell_type": "code",
   "execution_count": 2,
   "id": "german-gazette",
   "metadata": {},
   "outputs": [],
   "source": [
    "import os"
   ]
  },
  {
   "cell_type": "code",
   "execution_count": 3,
   "id": "signed-margin",
   "metadata": {},
   "outputs": [
    {
     "data": {
      "text/plain": [
       "'__T_0523.TIF'"
      ]
     },
     "execution_count": 3,
     "metadata": {},
     "output_type": "execute_result"
    }
   ],
   "source": [
    "# set tiff input folder\n",
    "dir_input_tiff = os.path.normpath(os.path.join(\n",
    "    os.getcwd(),\n",
    "    '../', 'input_tiff/size_full',\n",
    "))\n",
    "\n",
    "# sort input files\n",
    "tiff_list = os.listdir(dir_input_tiff)\n",
    "tiff_list.sort()\n",
    "# take the sequence middle as the reference frame\n",
    "reference_tiff = tiff_list[len(tiff_list) // 2]\n",
    "# and remove it from the 'to align' list\n",
    "tiff_list.pop(len(tiff_list) // 2)"
   ]
  },
  {
   "cell_type": "code",
   "execution_count": 4,
   "id": "hydraulic-aerospace",
   "metadata": {},
   "outputs": [],
   "source": [
    "import numpy as np\n",
    "import cv2 as cv"
   ]
  },
  {
   "cell_type": "code",
   "execution_count": 5,
   "id": "laughing-temple",
   "metadata": {},
   "outputs": [],
   "source": [
    "# read tiff file into numpy array using opencv\n",
    "refe = cv.imread(\n",
    "    os.path.join(dir_input_tiff, reference_tiff),\n",
    "    cv.IMREAD_UNCHANGED,\n",
    ")"
   ]
  },
  {
   "cell_type": "markdown",
   "id": "destroyed-process",
   "metadata": {},
   "source": [
    "## Star Detection"
   ]
  },
  {
   "cell_type": "markdown",
   "id": "undefined-granny",
   "metadata": {},
   "source": [
    "### convert to grayscale"
   ]
  },
  {
   "cell_type": "code",
   "execution_count": 6,
   "id": "aquatic-beach",
   "metadata": {},
   "outputs": [],
   "source": [
    "refe_gray = cv.cvtColor(refe, cv.COLOR_BGR2GRAY)  # grayscale\n",
    "refe_blur = cv.GaussianBlur(refe_gray, (9, 9), 0, 0)  # blur\n",
    "\n",
    "refe_b_float = refe_blur.astype(np.float32) / np.iinfo(refe_blur.dtype).max\n",
    "refe_float = refe_gray.astype(np.float32) / np.iinfo(refe_gray.dtype).max"
   ]
  },
  {
   "cell_type": "markdown",
   "id": "understood-judges",
   "metadata": {},
   "source": [
    "### wavelet transform"
   ]
  },
  {
   "cell_type": "code",
   "execution_count": 7,
   "id": "exciting-insertion",
   "metadata": {},
   "outputs": [],
   "source": [
    "import pywt"
   ]
  },
  {
   "cell_type": "code",
   "execution_count": 8,
   "id": "south-membrane",
   "metadata": {},
   "outputs": [],
   "source": [
    "def wavelet_dec_red_rec(\n",
    "    image: np.ndarray,\n",
    "    level: int = 5,\n",
    "    remove_to_small_scale_layer: int = -1,\n",
    "    remove_large_scale: bool = True,\n",
    ") -> np.ndarray:\n",
    "    # decomposition\n",
    "    coeffs = pywt.wavedec2(image, 'db8', level=level)\n",
    "    # reduction\n",
    "    for n in tuple(range(remove_to_small_scale_layer, 0)):\n",
    "        for i in tuple(range(0, 3)):\n",
    "            coeffs[n][i].fill(0)\n",
    "    if remove_large_scale:\n",
    "        coeffs[0].fill(0)\n",
    "    # reconstruction\n",
    "    return pywt.waverec2(coeffs, 'db8')"
   ]
  },
  {
   "cell_type": "code",
   "execution_count": 9,
   "id": "supreme-formation",
   "metadata": {},
   "outputs": [],
   "source": [
    "refe_b_wlred = wavelet_dec_red_rec(refe_b_float)\n",
    "refe_wlred = wavelet_dec_red_rec(refe_float)"
   ]
  },
  {
   "cell_type": "markdown",
   "id": "varied-redhead",
   "metadata": {},
   "source": [
    "### detect"
   ]
  },
  {
   "cell_type": "code",
   "execution_count": 10,
   "id": "arabic-grace",
   "metadata": {},
   "outputs": [],
   "source": [
    "# threshold\n",
    "refe_b_binary = cv.threshold(\n",
    "    (t := refe_b_wlred),\n",
    "    t.min() + (t.max() - t.min()) * 0.4,\n",
    "    255,\n",
    "    cv.THRESH_BINARY,\n",
    ")[1].astype(np.uint8)\n",
    "\n",
    "# find contours\n",
    "refe_contours = cv.findContours(\n",
    "    refe_b_binary, cv.RETR_LIST, cv.CHAIN_APPROX_SIMPLE\n",
    ")[0]"
   ]
  },
  {
   "cell_type": "markdown",
   "id": "perfect-gathering",
   "metadata": {},
   "source": [
    "#### characterization"
   ]
  },
  {
   "cell_type": "code",
   "execution_count": 21,
   "id": "logical-eating",
   "metadata": {},
   "outputs": [],
   "source": [
    "refe_stars: list[tuple[np.ndarray[float, float], float]] = []  # [( (x, y), intensity )]\n",
    "\n",
    "for c in refe_contours:\n",
    "    # calculate the centroid from clear image, to increase precision\n",
    "    star_mask = cv.drawContours(\n",
    "        np.zeros(refe_wlred.shape, refe_wlred.dtype),\n",
    "        [c], 0, 1, cv.FILLED,\n",
    "    )\n",
    "    M = cv.moments(refe_wlred * star_mask)\n",
    "    centroid = np.array([ M['m10'] / M['m00'], M['m01'] / M['m00'] ])\n",
    "    # denote brightness from blur image, to increase robustness\n",
    "    brightness = refe_b_wlred[int(centroid[1]), int(centroid[0])]\n",
    "    \n",
    "    refe_stars.append((centroid, brightness))"
   ]
  },
  {
   "cell_type": "markdown",
   "id": "electronic-medication",
   "metadata": {},
   "source": [
    "#### filter and sort by brightness"
   ]
  },
  {
   "cell_type": "code",
   "execution_count": 22,
   "id": "compound-trading",
   "metadata": {},
   "outputs": [],
   "source": [
    "refe_stars.sort(key=lambda e: e[1], reverse=True)\n",
    "mean = np.array(tuple(e[1] for e in refe_stars)).mean()\n",
    "for i in range(len(refe_stars)):\n",
    "    if refe_stars[i][1] < mean:\n",
    "        refe_stars = refe_stars[:i]\n",
    "        break"
   ]
  },
  {
   "cell_type": "markdown",
   "id": "ranking-tooth",
   "metadata": {},
   "source": [
    "## Star Match"
   ]
  },
  {
   "cell_type": "markdown",
   "id": "earlier-hopkins",
   "metadata": {},
   "source": [
    "### star field structure"
   ]
  },
  {
   "cell_type": "markdown",
   "id": "convinced-boards",
   "metadata": {},
   "source": [
    "- find brightest in refe\n",
    "- calculate distance between brightest and all others\n",
    "- cut a range in these distances\n",
    "-\n",
    "- for each star, find all star within range\n",
    "- calculate vector from source to target\n",
    "- take longest vector (if multiple, take brightest)\n",
    "- for each vector, take the magnitude and angle from the longest, this gives an Nx2 array\n",
    "-\n",
    "- pick 2 structure from 2 pictures\n",
    "- if their Nx2 array diff is small, treat as the same star"
   ]
  },
  {
   "cell_type": "code",
   "execution_count": 58,
   "id": "frank-sustainability",
   "metadata": {},
   "outputs": [],
   "source": [
    "low, high = np.array([0.1, 1]) * np.array(\n",
    "    tuple(np.linalg.norm(s[0] - refe_stars[0][0]) for s in refe_stars[1:])\n",
    ").std()"
   ]
  },
  {
   "cell_type": "code",
   "execution_count": 64,
   "id": "reported-triumph",
   "metadata": {},
   "outputs": [],
   "source": [
    "refe_structure: list[\n",
    "    tuple[\n",
    "        tuple[np.ndarray[float, float], float],  # source star\n",
    "        np.ndarray[ [float, float, float] ],\n",
    "        # Nx3 feature array [ [angle (cos), separation, brightness] ]\n",
    "    ]\n",
    "] = []\n",
    "\n",
    "for s1 in refe_stars:\n",
    "    neighbour = []\n",
    "    for s2 in refe_stars:\n",
    "        if low < np.linalg.norm(s2[0] - s1[0]) < high:\n",
    "            neighbour.append(s2)\n",
    "    # neighbour is already sorted because `refe_stars` is sorted by brightness\n",
    "\n",
    "    feature: list[tuple[float, float, float]] = []\n",
    "    av = neighbour[0][0] - s1[0]  # angle_reference_vector\n",
    "    for s2 in neighbour:\n",
    "        sv = s2[0] - s1[0]  # seperation_vector\n",
    "        feature.append(\n",
    "            (\n",
    "                (av @ sv) / ( np.linalg.norm(av) * (r := np.linalg.norm(sv)) ),\n",
    "                r,\n",
    "                s2[1],\n",
    "            )\n",
    "        )\n",
    "    # sort feature to be in order of angle\n",
    "    feature.sort(reverse=True)\n",
    "\n",
    "    refe_structure.append((s1, np.array(feature)))"
   ]
  },
  {
   "cell_type": "code",
   "execution_count": 76,
   "id": "divine-harvard",
   "metadata": {},
   "outputs": [
    {
     "data": {
      "text/plain": [
       "array([[ 1.00000000e+00,  6.96769879e+02,  3.60752195e-01],\n",
       "       [ 9.96853837e-01,  8.03560816e+02,  2.28183210e-01],\n",
       "       [ 9.88774584e-01,  4.06088334e+02,  2.84812391e-01],\n",
       "       [ 9.87627036e-01,  1.00669468e+03,  2.38803610e-01],\n",
       "       [ 9.83039745e-01,  1.06179260e+03,  2.31109053e-01],\n",
       "       [ 9.82877985e-01,  1.03758018e+03,  3.43152314e-01],\n",
       "       [ 9.16625106e-01,  4.60942956e+02,  3.15488607e-01],\n",
       "       [ 7.75383349e-01,  7.40353697e+02,  2.05119789e-01],\n",
       "       [ 7.51004203e-01,  6.73158814e+02,  2.23609298e-01],\n",
       "       [ 5.01990006e-01,  7.83636807e+02,  3.57394308e-01],\n",
       "       [ 2.47499490e-01,  9.92863809e+02,  2.63497859e-01],\n",
       "       [ 2.27277282e-01,  8.86611737e+02,  3.50686014e-01],\n",
       "       [-2.11385469e-01,  9.63570076e+02,  2.00591356e-01],\n",
       "       [-2.88696947e-01,  5.92977697e+02,  2.79881448e-01],\n",
       "       [-4.08373441e-01,  2.56396619e+02,  2.44250000e-01]])"
      ]
     },
     "execution_count": 76,
     "metadata": {},
     "output_type": "execute_result"
    }
   ],
   "source": [
    "refe_structure[3][1]"
   ]
  },
  {
   "cell_type": "markdown",
   "id": "placed-summary",
   "metadata": {},
   "source": [
    "now we need to do inter-file structure match, first mash all the above into a single function (temporarily)"
   ]
  },
  {
   "cell_type": "markdown",
   "id": "floating-andrews",
   "metadata": {},
   "source": [
    "## Image Debug Area"
   ]
  },
  {
   "cell_type": "code",
   "execution_count": 13,
   "id": "opposite-blast",
   "metadata": {},
   "outputs": [],
   "source": [
    "import matplotlib.pyplot as plt"
   ]
  },
  {
   "cell_type": "code",
   "execution_count": 14,
   "id": "burning-investment",
   "metadata": {},
   "outputs": [],
   "source": [
    "def cvshow(name: str, image: np.ndarray):\n",
    "    cv.namedWindow(name, cv.WINDOW_NORMAL)\n",
    "    cv.resizeWindow(name, 1000, 1000)\n",
    "    cv.moveWindow(name, 130, 20)\n",
    "    cv.imshow(name, image)"
   ]
  },
  {
   "cell_type": "code",
   "execution_count": null,
   "id": "statutory-inspection",
   "metadata": {},
   "outputs": [],
   "source": []
  },
  {
   "cell_type": "code",
   "execution_count": null,
   "id": "matched-cargo",
   "metadata": {},
   "outputs": [],
   "source": [
    "timg = cv.cvtColor(\n",
    "    (refe_gray * (np.iinfo(np.uint8).max / np.iinfo(np.uint16).max)).astype(np.uint8),\n",
    "    cv.COLOR_GRAY2BGR,\n",
    ")\n",
    "cv.drawContours(timg, refe_contours, -1, (0, 0, 255), cv.FILLED)"
   ]
  },
  {
   "cell_type": "code",
   "execution_count": 16,
   "id": "romance-insurance",
   "metadata": {},
   "outputs": [],
   "source": [
    "timg = cv.cvtColor(\n",
    "    (refe_gray * (np.iinfo(np.uint8).max / np.iinfo(np.uint16).max)).astype(np.uint8),\n",
    "    cv.COLOR_GRAY2BGR,\n",
    ")\n",
    "for c in tuple(e[0] for e in refe_stars):\n",
    "    cv.drawMarker(timg, tuple(int(e) for e in c), (0, 0, 255))"
   ]
  },
  {
   "cell_type": "code",
   "execution_count": null,
   "id": "grateful-portsmouth",
   "metadata": {},
   "outputs": [],
   "source": []
  },
  {
   "cell_type": "code",
   "execution_count": 17,
   "id": "quick-complaint",
   "metadata": {},
   "outputs": [],
   "source": [
    "# cvshow('refe_photo', refe_photo)\n",
    "# cvshow('refe_photo_g', refe_photo_g)\n",
    "# [1844:2044, 1844:2044]\n",
    "# [1744:2144, 1744:2144]\n",
    "# [1444:2444, 1444:2444]\n",
    "\n",
    "\n",
    "cvshow('gray', refe_gray[2500:2550, 125:175])\n",
    "cvshow('wlred', refe_wlred[2500:2550, 125:175])\n",
    "cvshow('timg', timg[2500:2550, 125:175])\n",
    "\n",
    "\n",
    "cv.waitKey(0)\n",
    "cv.destroyAllWindows()"
   ]
  },
  {
   "cell_type": "code",
   "execution_count": null,
   "id": "actual-sample",
   "metadata": {},
   "outputs": [],
   "source": [
    "cv.waitKey(0)\n",
    "cv.destroyAllWindows()"
   ]
  }
 ],
 "metadata": {
  "kernelspec": {
   "display_name": "Python 3",
   "language": "python",
   "name": "python3"
  },
  "language_info": {
   "codemirror_mode": {
    "name": "ipython",
    "version": 3
   },
   "file_extension": ".py",
   "mimetype": "text/x-python",
   "name": "python",
   "nbconvert_exporter": "python",
   "pygments_lexer": "ipython3",
   "version": "3.8.6"
  }
 },
 "nbformat": 4,
 "nbformat_minor": 5
}
