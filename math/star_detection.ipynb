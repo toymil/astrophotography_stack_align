{
 "cells": [
  {
   "cell_type": "markdown",
   "id": "terminal-province",
   "metadata": {},
   "source": [
    "- star detection\n",
    "    - convert to grayscale\n",
    "        + and blur (for better robustness?)\n",
    "        - convert to float32, and divide by maximum value\n",
    "    + [ ] remove hot pixel (median filter)\n",
    "    - wavelet transform\n",
    "        - noise reduction (remove small-scale wavelet layer)\n",
    "        - remove background (remove large-scale wavelet layer)\n",
    "        - inverse wavelet transform\n",
    "    - detect\n",
    "        - threshold image to binary\n",
    "            - [ ] auto tune threshold paremeter\n",
    "        - find contours\n",
    "            - outer boundary: relative brightness with local background (want relatively large boundary to include all pixels for intensity centroid calculation)\n",
    "            - filter by brightness\n",
    "                - too dim: peak brightness\n",
    "                - [ ] capped brightness (not so useful in star matching)\n",
    "            - [ ] filter non-circular object: shape (`cv.minAreaRect()`)\n",
    "            - [ ] filter by size\n",
    "        - characterization\n",
    "            - find contour centroid\n",
    "                - calculate actual intensity centroid\n",
    "            - denote brightness\n",
    "- star match\n",
    "    - star field structure\n",
    "- star align\n",
    "    - calculate transform matrix"
   ]
  },
  {
   "cell_type": "code",
   "execution_count": 1,
   "id": "british-gibraltar",
   "metadata": {},
   "outputs": [],
   "source": [
    "from __future__ import annotations"
   ]
  },
  {
   "cell_type": "code",
   "execution_count": 2,
   "id": "german-gazette",
   "metadata": {},
   "outputs": [],
   "source": [
    "import os"
   ]
  },
  {
   "cell_type": "code",
   "execution_count": 3,
   "id": "signed-margin",
   "metadata": {},
   "outputs": [
    {
     "data": {
      "text/plain": [
       "'__T_0523.TIF'"
      ]
     },
     "execution_count": 3,
     "metadata": {},
     "output_type": "execute_result"
    }
   ],
   "source": [
    "# set tiff input folder\n",
    "dir_input_tiff = os.path.normpath(os.path.join(\n",
    "    os.getcwd(),\n",
    "    '../', 'input_tiff/size_full',\n",
    "))\n",
    "\n",
    "# sort input files\n",
    "tiff_list = os.listdir(dir_input_tiff)\n",
    "tiff_list.sort()\n",
    "# take the sequence middle as the reference frame\n",
    "reference_tiff = tiff_list[len(tiff_list) // 2]\n",
    "# and remove it from the 'to align' list\n",
    "tiff_list.pop(len(tiff_list) // 2)"
   ]
  },
  {
   "cell_type": "code",
   "execution_count": 4,
   "id": "hydraulic-aerospace",
   "metadata": {},
   "outputs": [],
   "source": [
    "import numpy as np\n",
    "import cv2 as cv"
   ]
  },
  {
   "cell_type": "code",
   "execution_count": 5,
   "id": "laughing-temple",
   "metadata": {},
   "outputs": [],
   "source": [
    "# read tiff file into numpy array using opencv\n",
    "refe = cv.imread(\n",
    "    os.path.join(dir_input_tiff, reference_tiff),\n",
    "    cv.IMREAD_UNCHANGED,\n",
    ")"
   ]
  },
  {
   "cell_type": "markdown",
   "id": "destroyed-process",
   "metadata": {},
   "source": [
    "## Star Detection"
   ]
  },
  {
   "cell_type": "markdown",
   "id": "undefined-granny",
   "metadata": {},
   "source": [
    "### convert to grayscale"
   ]
  },
  {
   "cell_type": "code",
   "execution_count": 6,
   "id": "aquatic-beach",
   "metadata": {},
   "outputs": [],
   "source": [
    "refe_gray = cv.cvtColor(refe, cv.COLOR_BGR2GRAY)  # grayscale\n",
    "refe_blur = cv.GaussianBlur(refe_gray, (9, 9), 0, 0)  # blur\n",
    "\n",
    "refe_b_float = refe_blur.astype(np.float32) / np.iinfo(refe_blur.dtype).max\n",
    "refe_float = refe_gray.astype(np.float32) / np.iinfo(refe_gray.dtype).max"
   ]
  },
  {
   "cell_type": "markdown",
   "id": "understood-judges",
   "metadata": {},
   "source": [
    "### wavelet transform"
   ]
  },
  {
   "cell_type": "code",
   "execution_count": 7,
   "id": "exciting-insertion",
   "metadata": {},
   "outputs": [],
   "source": [
    "import pywt"
   ]
  },
  {
   "cell_type": "code",
   "execution_count": 8,
   "id": "south-membrane",
   "metadata": {},
   "outputs": [],
   "source": [
    "def wavelet_dec_red_rec(\n",
    "    image: np.ndarray,\n",
    "    level: int = 5,\n",
    "    remove_to_small_scale_layer: int = -1,\n",
    "    remove_large_scale: bool = True,\n",
    ") -> np.ndarray:\n",
    "    # decomposition\n",
    "    coeffs = pywt.wavedec2(image, 'db8', level=level)\n",
    "    # reduction\n",
    "    for n in tuple(range(remove_to_small_scale_layer, 0)):\n",
    "        for i in tuple(range(0, 3)):\n",
    "            coeffs[n][i].fill(0)\n",
    "    if remove_large_scale:\n",
    "        coeffs[0].fill(0)\n",
    "    # reconstruction\n",
    "    return pywt.waverec2(coeffs, 'db8')"
   ]
  },
  {
   "cell_type": "code",
   "execution_count": 9,
   "id": "supreme-formation",
   "metadata": {},
   "outputs": [],
   "source": [
    "refe_b_wlred = wavelet_dec_red_rec(refe_b_float)\n",
    "refe_wlred = wavelet_dec_red_rec(refe_float)"
   ]
  },
  {
   "cell_type": "markdown",
   "id": "varied-redhead",
   "metadata": {},
   "source": [
    "### detect"
   ]
  },
  {
   "cell_type": "code",
   "execution_count": 10,
   "id": "arabic-grace",
   "metadata": {},
   "outputs": [],
   "source": [
    "# threshold\n",
    "refe_b_binary = cv.threshold(\n",
    "    (t := refe_b_wlred),\n",
    "    t.min() + (t.max() - t.min()) * 0.4,\n",
    "    255,\n",
    "    cv.THRESH_BINARY,\n",
    ")[1].astype(np.uint8)\n",
    "\n",
    "# find contours\n",
    "refe_contours = cv.findContours(\n",
    "    refe_b_binary, cv.RETR_LIST, cv.CHAIN_APPROX_SIMPLE\n",
    ")[0]"
   ]
  },
  {
   "cell_type": "markdown",
   "id": "perfect-gathering",
   "metadata": {},
   "source": [
    "#### characterization"
   ]
  },
  {
   "cell_type": "code",
   "execution_count": 11,
   "id": "logical-eating",
   "metadata": {},
   "outputs": [],
   "source": [
    "refe_stars: list[\n",
    "    tuple[np.ndarray, float]\n",
    "] = []  # [ (S2A[x, y], intensity) ]\n",
    "\n",
    "for c in refe_contours:\n",
    "    # calculate the centroid from clear image, to increase precision\n",
    "    star_mask = cv.drawContours(\n",
    "        np.zeros(refe_wlred.shape, refe_wlred.dtype),\n",
    "        [c], 0, 1, cv.FILLED,\n",
    "    )\n",
    "    M = cv.moments(refe_wlred * star_mask)\n",
    "    centroid = np.array([ M['m10'] / M['m00'], M['m01'] / M['m00'] ])\n",
    "    # denote brightness from blur image, to increase robustness\n",
    "    brightness = refe_b_wlred[int(centroid[1]), int(centroid[0])]\n",
    "    \n",
    "    refe_stars.append((centroid, brightness))"
   ]
  },
  {
   "cell_type": "markdown",
   "id": "electronic-medication",
   "metadata": {},
   "source": [
    "#### filter and sort by brightness"
   ]
  },
  {
   "cell_type": "code",
   "execution_count": 12,
   "id": "compound-trading",
   "metadata": {},
   "outputs": [],
   "source": [
    "refe_stars.sort(key=lambda e: e[1], reverse=True)\n",
    "mean = np.array(tuple(e[1] for e in refe_stars)).mean()\n",
    "for i in range(len(refe_stars)):\n",
    "    if refe_stars[i][1] < mean:\n",
    "        refe_stars = refe_stars[:i]\n",
    "        break"
   ]
  },
  {
   "cell_type": "markdown",
   "id": "ranking-tooth",
   "metadata": {},
   "source": [
    "## Star Match"
   ]
  },
  {
   "cell_type": "markdown",
   "id": "earlier-hopkins",
   "metadata": {},
   "source": [
    "### star field structure"
   ]
  },
  {
   "cell_type": "markdown",
   "id": "convinced-boards",
   "metadata": {},
   "source": [
    "- find brightest in refe\n",
    "- calculate distance between brightest and all others\n",
    "- cut a range in these distances\n",
    "-\n",
    "- for each star, find all stars within range\n",
    "- calculate vector from source to target\n",
    "- every two vector within angle PI form a triangle, fully characterized by the inner angle and the ratio of the two vector magnitudes (mind the order)\n",
    "    - take brightest star as angle reference vector\n",
    "    - for each vector, calculate angle from angle ref. vector (anticlockwise)\n",
    "    - sort vectors by angle\n",
    "    - (2 layer) iterate the list, take the anticlockwise angle (later minus former), ratio be the former divided by the later\n",
    "- so the structure feature array `Sn` would be of the form: `[ Vector1Triangle0, V1T1, V1T2, V2T0, V2T1, V3T0, ... ]`, with each `VnTn` of the form: `[angle, ratio]`\n",
    "-\n",
    "- pick 2 structures if categorized as similar, treat the source as the same star\n",
    "    - pick `S1[i1]` as start, iterate `S2` untile find a match `S2[i2]`\n",
    "    - pick `S1[i1+1]`, start at `S2[i2+1]`, find match at `S2[i2+n1]`\n",
    "    - do the same for `S1[i1+2]`, start at `S2[i2+n1+1]`, find match at `S2[i2+n1+n2]`"
   ]
  },
  {
   "cell_type": "code",
   "execution_count": 13,
   "id": "frank-sustainability",
   "metadata": {},
   "outputs": [],
   "source": [
    "low, high = np.array([0.1, 1]) * np.array(\n",
    "    tuple(np.linalg.norm(s[0] - refe_stars[0][0]) for s in refe_stars[1:])\n",
    ").std()"
   ]
  },
  {
   "cell_type": "code",
   "execution_count": 14,
   "id": "secondary-peter",
   "metadata": {},
   "outputs": [],
   "source": [
    "from typing import TypeVar\n",
    "T = TypeVar('T')\n",
    "def iof(l: collections.abc.Sequence[T], i: int) -> T:\n",
    "    # index overflow / circular linked list\n",
    "    while True:\n",
    "        if -1 < i < len(l):\n",
    "            break\n",
    "        else:\n",
    "            i -= (i // len(l)) * len(l)\n",
    "    return l[i]"
   ]
  },
  {
   "cell_type": "code",
   "execution_count": 15,
   "id": "reported-triumph",
   "metadata": {},
   "outputs": [],
   "source": [
    "refe_structure: list[\n",
    "    tuple[\n",
    "        np.ndarray,  # S2A[x, y]; source star centroid\n",
    "        np.ndarray,  # SNx2A[ [angle, ratio] ]; feature array\n",
    "    ]\n",
    "] = []\n",
    "\n",
    "for s1 in refe_stars:\n",
    "    neighbour: list[\n",
    "        list[\n",
    "            np.ndarray,  # [ S2A(separation vector) ]\n",
    "            float,  # magnitude of separation vector\n",
    "            float,  # angle from angle reference vector\n",
    "        ]\n",
    "    ] = []\n",
    "\n",
    "    for s2 in refe_stars:\n",
    "        if low < np.linalg.norm( (sv := (s2[0] - s1[0])) ) < high:\n",
    "            # populate separation vector and its magnitude\n",
    "            neighbour.append([sv, (sr := np.linalg.norm(sv))])\n",
    "            # Neighbour is already sorted by brightness because `refe_stars`\n",
    "            # is sorted.  So the `neighbour[0][0]` is the angle reference vector.\n",
    "            # populate angle from angle reference vector\n",
    "            neighbour[-1].append(\n",
    "                np.arccos(\n",
    "                    np.clip(\n",
    "                        np.dot(neighbour[0][0], sv) / (neighbour[0][1] * sr),\n",
    "                        -1, 1\n",
    "                    )\n",
    "                ) * np.sign( np.cross(neighbour[0][0], sv) )\n",
    "            )\n",
    "    # too few neighbour do not form enough triangles\n",
    "    if len(neighbour) < 3:\n",
    "        continue\n",
    "\n",
    "    neighbour.sort(key=lambda e: e[2])\n",
    "    feature: list[tuple[float, float]] = []  # [ (angle, ratio) ]\n",
    "    for i1 in range(0, len(neighbour)):\n",
    "        for i2 in range(i1+1, i1+len(neighbour)):\n",
    "            # here we may cross the 'PI, -PI' boundary, then `later - former`\n",
    "            # becomes the clockwise angle (negative value), so we need to\n",
    "            # prepare `later` to be greater\n",
    "            later, former = iof(neighbour, i2)[2], neighbour[i1][2]\n",
    "            if later < former:\n",
    "                later += 2 * np.pi\n",
    "            angle = later - former\n",
    "            # any angle less than PI is ok, but we take 4/5 PI\n",
    "            if ((4/5) * np.pi) < angle:\n",
    "                break\n",
    "            ratio = neighbour[i1][1] / iof(neighbour, i2)[1]\n",
    "            feature.append( (angle, ratio) )\n",
    "\n",
    "    refe_structure.append( (s1[0], np.array(feature)) )"
   ]
  },
  {
   "cell_type": "code",
   "execution_count": 16,
   "id": "recognized-paint",
   "metadata": {},
   "outputs": [
    {
     "data": {
      "text/plain": [
       "(124, 124)"
      ]
     },
     "execution_count": 16,
     "metadata": {},
     "output_type": "execute_result"
    }
   ],
   "source": [
    "len(refe_stars), len(refe_structure)"
   ]
  },
  {
   "cell_type": "code",
   "execution_count": 17,
   "id": "hundred-objective",
   "metadata": {},
   "outputs": [
    {
     "data": {
      "text/plain": [
       "(array([3862.61713559,  735.7704727 ]),\n",
       " array([[2.25925358e-01, 4.44248036e-01],\n",
       "        [2.26805324e-01, 4.34117697e-01],\n",
       "        [2.61265307e-01, 1.13508052e+00],\n",
       "        [4.11241843e-01, 6.61542598e-01],\n",
       "        [4.90586839e-01, 5.73625476e-01],\n",
       "        [5.68712882e-01, 4.57877612e-01],\n",
       "        [1.09471625e+00, 6.22598303e-01],\n",
       "        [1.13245657e+00, 6.84746224e-01],\n",
       "        [1.45614001e+00, 5.88209935e-01],\n",
       "        [1.73193957e+00, 4.64255975e-01],\n",
       "        [1.75275729e+00, 5.19892684e-01],\n",
       "        [2.19503041e+00, 4.78369936e-01],\n",
       "        [2.27490372e+00, 7.77336075e-01],\n",
       "        [2.40270960e+00, 1.79777314e+00],\n",
       "        [8.79966304e-04, 9.77196660e-01],\n",
       "        [3.53399491e-02, 2.55506029e+00],\n",
       "        [1.85316485e-01, 1.48912892e+00],\n",
       "        [2.64661482e-01, 1.29122794e+00],\n",
       "        [3.42787524e-01, 1.03068011e+00],\n",
       "        [8.68790889e-01, 1.40146552e+00],\n",
       "        [9.06531211e-01, 1.54136016e+00],\n",
       "        [1.23021465e+00, 1.32405748e+00],\n",
       "        [1.50601422e+00, 1.04503777e+00],\n",
       "        [1.52683193e+00, 1.17027571e+00],\n",
       "        [1.96910506e+00, 1.07680822e+00],\n",
       "        [2.04897837e+00, 1.74977943e+00],\n",
       "        [2.17678425e+00, 4.04677792e+00],\n",
       "        [3.44599828e-02, 2.61468382e+00],\n",
       "        [1.84436519e-01, 1.52387844e+00],\n",
       "        [2.63781515e-01, 1.32135935e+00],\n",
       "        [3.41907558e-01, 1.05473151e+00],\n",
       "        [8.67910922e-01, 1.43416937e+00],\n",
       "        [9.05651245e-01, 1.57732852e+00],\n",
       "        [1.22933468e+00, 1.35495498e+00],\n",
       "        [1.50513425e+00, 1.06942421e+00],\n",
       "        [1.52595197e+00, 1.19758464e+00],\n",
       "        [1.96822509e+00, 1.10193604e+00],\n",
       "        [2.04809840e+00, 1.79061135e+00],\n",
       "        [2.17590428e+00, 4.14121137e+00],\n",
       "        [1.49976536e-01, 5.82815570e-01],\n",
       "        [2.29321533e-01, 5.05361045e-01],\n",
       "        [3.07447575e-01, 4.03387782e-01],\n",
       "        [8.33450939e-01, 5.48505850e-01],\n",
       "        [8.71191262e-01, 6.03257843e-01],\n",
       "        [1.19487470e+00, 5.18209878e-01],\n",
       "        [1.47067427e+00, 4.09007087e-01],\n",
       "        [1.49149198e+00, 4.58022736e-01],\n",
       "        [1.93376511e+00, 4.21441413e-01],\n",
       "        [2.01363842e+00, 6.84829018e-01],\n",
       "        [2.14144430e+00, 1.58382874e+00],\n",
       "        [7.93449965e-02, 8.67102856e-01],\n",
       "        [1.57471039e-01, 6.92136249e-01],\n",
       "        [6.83474403e-01, 9.41131085e-01],\n",
       "        [7.21214726e-01, 1.03507503e+00],\n",
       "        [1.04489816e+00, 8.89148994e-01],\n",
       "        [1.32069773e+00, 7.01777900e-01],\n",
       "        [1.34151545e+00, 7.85879376e-01],\n",
       "        [1.78378857e+00, 7.23112824e-01],\n",
       "        [1.86366188e+00, 1.17503556e+00],\n",
       "        [1.99146776e+00, 2.71754706e+00],\n",
       "        [7.81260422e-02, 7.98217009e-01],\n",
       "        [6.04129407e-01, 1.08537422e+00],\n",
       "        [6.41869730e-01, 1.19371655e+00],\n",
       "        [9.65553166e-01, 1.02542506e+00],\n",
       "        [1.24135273e+00, 8.09336395e-01],\n",
       "        [1.26217045e+00, 9.06327745e-01],\n",
       "        [1.70444357e+00, 8.33941232e-01],\n",
       "        [1.78431688e+00, 1.35512823e+00],\n",
       "        [1.91212277e+00, 3.13405387e+00],\n",
       "        [5.26003365e-01, 1.35974830e+00],\n",
       "        [5.63743688e-01, 1.49547872e+00],\n",
       "        [8.87427123e-01, 1.28464445e+00],\n",
       "        [1.16322669e+00, 1.01393028e+00],\n",
       "        [1.18404441e+00, 1.13544028e+00],\n",
       "        [1.62631753e+00, 1.04475503e+00],\n",
       "        [1.70619084e+00, 1.69769400e+00],\n",
       "        [1.83399672e+00, 3.92631807e+00],\n",
       "        [3.77403228e-02, 1.09982025e+00],\n",
       "        [3.61423759e-01, 9.44766364e-01],\n",
       "        [6.37223327e-01, 7.45674976e-01],\n",
       "        [6.58041043e-01, 8.35037104e-01],\n",
       "        [1.10031417e+00, 7.68344426e-01],\n",
       "        [1.18018748e+00, 1.24853549e+00],\n",
       "        [1.30799336e+00, 2.88753299e+00],\n",
       "        [3.23683436e-01, 8.59018882e-01],\n",
       "        [5.99483004e-01, 6.77997131e-01],\n",
       "        [6.20300720e-01, 7.59248706e-01],\n",
       "        [1.06257384e+00, 6.98609090e-01],\n",
       "        [1.14244715e+00, 1.13521776e+00],\n",
       "        [1.27025304e+00, 2.62545901e+00],\n",
       "        [2.75799568e-01, 7.89269183e-01],\n",
       "        [2.96617284e-01, 8.83855666e-01],\n",
       "        [7.38890409e-01, 8.13263951e-01],\n",
       "        [8.18763719e-01, 1.32152830e+00],\n",
       "        [9.46569600e-01, 3.05634610e+00],\n",
       "        [2.08177162e-02, 1.11984059e+00],\n",
       "        [4.63090841e-01, 1.03040125e+00],\n",
       "        [5.42964151e-01, 1.67436956e+00],\n",
       "        [6.70770032e-01, 3.87237481e+00],\n",
       "        [4.42273124e-01, 9.20132079e-01],\n",
       "        [5.22146435e-01, 1.49518564e+00],\n",
       "        [6.49952316e-01, 3.45796968e+00],\n",
       "        [7.98733103e-02, 1.62496849e+00],\n",
       "        [2.07679191e-01, 3.75812317e+00],\n",
       "        [1.27805881e-01, 2.31273602e+00]]))"
      ]
     },
     "execution_count": 17,
     "metadata": {},
     "output_type": "execute_result"
    }
   ],
   "source": [
    "refe_structure[3]"
   ]
  },
  {
   "cell_type": "markdown",
   "id": "placed-summary",
   "metadata": {},
   "source": [
    "now we need to do inter-file structure match, first mash all the above into a single function (temporarily)"
   ]
  },
  {
   "cell_type": "markdown",
   "id": "floating-andrews",
   "metadata": {},
   "source": [
    "## Image Debug Area"
   ]
  },
  {
   "cell_type": "code",
   "execution_count": null,
   "id": "opposite-blast",
   "metadata": {},
   "outputs": [],
   "source": [
    "import matplotlib.pyplot as plt"
   ]
  },
  {
   "cell_type": "code",
   "execution_count": null,
   "id": "burning-investment",
   "metadata": {},
   "outputs": [],
   "source": [
    "def cvshow(name: str, image: np.ndarray):\n",
    "    cv.namedWindow(name, cv.WINDOW_NORMAL)\n",
    "    cv.resizeWindow(name, 1000, 1000)\n",
    "    cv.moveWindow(name, 130, 20)\n",
    "    cv.imshow(name, image)"
   ]
  },
  {
   "cell_type": "code",
   "execution_count": null,
   "id": "statutory-inspection",
   "metadata": {},
   "outputs": [],
   "source": []
  },
  {
   "cell_type": "code",
   "execution_count": null,
   "id": "matched-cargo",
   "metadata": {},
   "outputs": [],
   "source": [
    "timg = cv.cvtColor(\n",
    "    (refe_gray * (np.iinfo(np.uint8).max / np.iinfo(np.uint16).max)).astype(np.uint8),\n",
    "    cv.COLOR_GRAY2BGR,\n",
    ")\n",
    "cv.drawContours(timg, refe_contours, -1, (0, 0, 255), cv.FILLED)"
   ]
  },
  {
   "cell_type": "code",
   "execution_count": null,
   "id": "romance-insurance",
   "metadata": {},
   "outputs": [],
   "source": [
    "timg = cv.cvtColor(\n",
    "    (refe_gray * (np.iinfo(np.uint8).max / np.iinfo(np.uint16).max)).astype(np.uint8),\n",
    "    cv.COLOR_GRAY2BGR,\n",
    ")\n",
    "for c in tuple(e[0] for e in refe_stars):\n",
    "    cv.drawMarker(timg, tuple(int(e) for e in c), (0, 0, 255))"
   ]
  },
  {
   "cell_type": "code",
   "execution_count": null,
   "id": "grateful-portsmouth",
   "metadata": {},
   "outputs": [],
   "source": []
  },
  {
   "cell_type": "code",
   "execution_count": null,
   "id": "quick-complaint",
   "metadata": {},
   "outputs": [],
   "source": [
    "# cvshow('refe_photo', refe_photo)\n",
    "# cvshow('refe_photo_g', refe_photo_g)\n",
    "# [1844:2044, 1844:2044]\n",
    "# [1744:2144, 1744:2144]\n",
    "# [1444:2444, 1444:2444]\n",
    "\n",
    "\n",
    "cvshow('gray', refe_gray[2500:2550, 125:175])\n",
    "cvshow('wlred', refe_wlred[2500:2550, 125:175])\n",
    "cvshow('timg', timg[2500:2550, 125:175])\n",
    "\n",
    "\n",
    "cv.waitKey(0)\n",
    "cv.destroyAllWindows()"
   ]
  },
  {
   "cell_type": "code",
   "execution_count": null,
   "id": "actual-sample",
   "metadata": {},
   "outputs": [],
   "source": [
    "cv.waitKey(0)\n",
    "cv.destroyAllWindows()"
   ]
  }
 ],
 "metadata": {
  "kernelspec": {
   "display_name": "Python 3",
   "language": "python",
   "name": "python3"
  },
  "language_info": {
   "codemirror_mode": {
    "name": "ipython",
    "version": 3
   },
   "file_extension": ".py",
   "mimetype": "text/x-python",
   "name": "python",
   "nbconvert_exporter": "python",
   "pygments_lexer": "ipython3",
   "version": "3.8.6"
  }
 },
 "nbformat": 4,
 "nbformat_minor": 5
}
