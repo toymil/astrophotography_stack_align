{
 "cells": [
  {
   "cell_type": "code",
   "execution_count": 1,
   "id": "unlikely-watershed",
   "metadata": {},
   "outputs": [],
   "source": [
    "import matplotlib.pyplot as plt\n",
    "import random"
   ]
  },
  {
   "cell_type": "code",
   "execution_count": 2,
   "id": "retired-speaker",
   "metadata": {},
   "outputs": [],
   "source": [
    "from __future__ import annotations\n",
    "\n",
    "import os\n",
    "from typing import TypeVar\n",
    "\n",
    "import cv2 as cv\n",
    "import numpy as np\n",
    "import pywt"
   ]
  },
  {
   "cell_type": "code",
   "execution_count": 3,
   "id": "digital-blame",
   "metadata": {},
   "outputs": [],
   "source": [
    "def wavelet_dec_red_rec(\n",
    "    image: np.ndarray,\n",
    "    level: int = 5,\n",
    "    remove_to_small_scale_layer: int = -1,\n",
    "    remove_large_scale: bool = True,\n",
    ") -> np.ndarray:\n",
    "    # decomposition\n",
    "    coeffs = pywt.wavedec2(image, 'db8', level=level)\n",
    "    # reduction\n",
    "    for n in tuple(range(remove_to_small_scale_layer, 0)):\n",
    "        for i in tuple(range(0, 3)):\n",
    "            coeffs[n][i].fill(0)\n",
    "    if remove_large_scale:\n",
    "        coeffs[0].fill(0)\n",
    "    # reconstruction\n",
    "    return pywt.waverec2(coeffs, 'db8')\n",
    "\n",
    "\n",
    "T = TypeVar('T')\n",
    "\n",
    "\n",
    "def iof(l: collections.abc.Sequence[T], i: int) -> T:\n",
    "    # index overflow / circular linked list\n",
    "    while True:\n",
    "        if -1 < i < len(l):\n",
    "            break\n",
    "        else:\n",
    "            i -= (i // len(l)) * len(l)\n",
    "    return l[i]\n",
    "\n",
    "\n",
    "def mash(image, struc_range_low=None, struc_range_high=None):\n",
    "    image_gray = cv.cvtColor(image, cv.COLOR_BGR2GRAY)  # grayscale\n",
    "    image_blur = cv.GaussianBlur(image_gray, (9, 9), 0, 0)  # blur\n",
    "\n",
    "    image_b_float = image_blur.astype(np.float32) / np.iinfo(image_blur.dtype).max\n",
    "    image_float = image_gray.astype(np.float32) / np.iinfo(image_gray.dtype).max\n",
    "\n",
    "    image_b_wlred = wavelet_dec_red_rec(image_b_float)\n",
    "    image_wlred = wavelet_dec_red_rec(image_float)\n",
    "    # threshold\n",
    "    image_b_binary = cv.threshold(\n",
    "        (t := image_b_wlred),\n",
    "        t.min() + (t.max() - t.min()) * 0.4,\n",
    "        255,\n",
    "        cv.THRESH_BINARY,\n",
    "    )[1].astype(np.uint8)\n",
    "\n",
    "    # find contours\n",
    "    image_contours = cv.findContours(image_b_binary, cv.RETR_LIST, cv.CHAIN_APPROX_SIMPLE)[0]\n",
    "    image_stars: list[tuple[np.ndarray[float, float], float]] = []  # [( (x, y), intensity )]\n",
    "\n",
    "    for c in image_contours:\n",
    "        # calculate the centroid from clear image, to increase precision\n",
    "        star_mask = cv.drawContours(\n",
    "            np.zeros(image_wlred.shape, image_wlred.dtype),\n",
    "            [c],\n",
    "            0,\n",
    "            1,\n",
    "            cv.FILLED,\n",
    "        )\n",
    "        M = cv.moments(image_wlred * star_mask)\n",
    "        centroid = np.array([M['m10'] / M['m00'], M['m01'] / M['m00']])\n",
    "        # denote brightness from blur image, to increase robustness\n",
    "        brightness = image_b_wlred[int(centroid[1]), int(centroid[0])]\n",
    "\n",
    "        image_stars.append((centroid, brightness))\n",
    "    image_stars.sort(key=lambda e: e[1], reverse=True)\n",
    "    mean = np.array(tuple(e[1] for e in image_stars)).mean()\n",
    "    for i in range(len(image_stars)):\n",
    "        if image_stars[i][1] < mean:\n",
    "            image_stars = image_stars[:i]\n",
    "            break\n",
    "\n",
    "    if struc_range_low is None:\n",
    "        struc_range_low, struc_range_high = (\n",
    "            np.array([0.1, 1])\n",
    "            * np.array(\n",
    "                tuple(np.linalg.norm(s[0] - image_stars[0][0]) for s in image_stars[1:])\n",
    "            ).std()\n",
    "        )\n",
    "\n",
    "    image_structure: list[\n",
    "        tuple[\n",
    "            np.ndarray,  # S2A[x, y]; source star centroid\n",
    "            np.ndarray,  # SNx2A[ [angle, ratio] ]; feature array\n",
    "        ]\n",
    "    ] = []\n",
    "\n",
    "    for s1 in image_stars:\n",
    "        neighbour: list[\n",
    "            list[\n",
    "                np.ndarray,  # [ S2A(separation vector) ]\n",
    "                float,  # magnitude of separation vector\n",
    "                float,  # angle from angle reference vector\n",
    "            ]\n",
    "        ] = []\n",
    "\n",
    "        for s2 in image_stars:\n",
    "            if struc_range_low < np.linalg.norm((sv := (s2[0] - s1[0]))) < struc_range_high:\n",
    "                # populate separation vector and its magnitude\n",
    "                neighbour.append([sv, (sr := np.linalg.norm(sv))])\n",
    "                # Neighbour is already sorted by brightness because `refe_stars`\n",
    "                # is sorted.  So the `neighbour[0][0]` is the angle reference vector.\n",
    "                # populate angle from angle reference vector\n",
    "                neighbour[-1].append(\n",
    "                    np.arccos(np.clip(np.dot(neighbour[0][0], sv) / (neighbour[0][1] * sr), -1, 1))\n",
    "                    * np.sign(np.cross(neighbour[0][0], sv))\n",
    "                )\n",
    "        # too few neighbour do not form enough triangles\n",
    "        if len(neighbour) < 3:\n",
    "            continue\n",
    "\n",
    "        neighbour.sort(key=lambda e: e[2])\n",
    "        feature: list[tuple[float, float]] = []  # [ (angle, ratio) ]\n",
    "        for i1 in range(0, len(neighbour)):\n",
    "            for i2 in range(i1 + 1, i1 + len(neighbour)):\n",
    "                # here we may cross the 'PI, -PI' boundary, then `later - former`\n",
    "                # becomes the clockwise angle (negative value), so we need to\n",
    "                # prepare `later` to be greater\n",
    "                later, former = iof(neighbour, i2)[2], neighbour[i1][2]\n",
    "                if later < former:\n",
    "                    later += 2 * np.pi\n",
    "                angle = later - former\n",
    "                # any angle less than PI is ok, but we take 4/5 PI\n",
    "                if ((4 / 5) * np.pi) < angle:\n",
    "                    break\n",
    "                ratio = neighbour[i1][1] / iof(neighbour, i2)[1]\n",
    "                feature.append((angle, ratio))\n",
    "\n",
    "        image_structure.append((s1[0], np.array(feature)))\n",
    "\n",
    "    return (\n",
    "        image_gray,\n",
    "        image_blur,\n",
    "        image_wlred,\n",
    "        image_b_wlred,\n",
    "        image_b_binary,\n",
    "        image_contours,\n",
    "        image_stars,\n",
    "        image_structure,\n",
    "        struc_range_low,\n",
    "        struc_range_high,\n",
    "    )"
   ]
  },
  {
   "cell_type": "code",
   "execution_count": 4,
   "id": "resident-midnight",
   "metadata": {},
   "outputs": [
    {
     "data": {
      "text/plain": [
       "'__T_0523.TIF'"
      ]
     },
     "execution_count": 4,
     "metadata": {},
     "output_type": "execute_result"
    }
   ],
   "source": [
    "# set tiff input folder\n",
    "dir_input_tiff = os.path.normpath(\n",
    "    os.path.join(\n",
    "        os.getcwd(),\n",
    "        '../',\n",
    "        'input_tiff/size_full',\n",
    "    )\n",
    ")\n",
    "\n",
    "# sort input files\n",
    "tiff_list = os.listdir(dir_input_tiff)\n",
    "tiff_list.sort()\n",
    "# take the sequence middle as the reference frame\n",
    "reference_tiff = tiff_list[len(tiff_list) // 2]\n",
    "# and remove it from the 'to align' list\n",
    "tiff_list.pop(len(tiff_list) // 2)"
   ]
  },
  {
   "cell_type": "code",
   "execution_count": 5,
   "id": "experimental-department",
   "metadata": {},
   "outputs": [],
   "source": [
    "refe = cv.imread(\n",
    "    os.path.join(dir_input_tiff, reference_tiff),\n",
    "    cv.IMREAD_UNCHANGED,\n",
    ")"
   ]
  },
  {
   "cell_type": "code",
   "execution_count": 6,
   "id": "married-architect",
   "metadata": {},
   "outputs": [
    {
     "data": {
      "text/plain": [
       "'__T_0498.TIF'"
      ]
     },
     "execution_count": 6,
     "metadata": {},
     "output_type": "execute_result"
    }
   ],
   "source": [
    "tiff_list[0]"
   ]
  },
  {
   "cell_type": "code",
   "execution_count": 7,
   "id": "subjective-image",
   "metadata": {},
   "outputs": [],
   "source": [
    "targ = cv.imread(\n",
    "    os.path.join(dir_input_tiff, '__T_0498.TIF'),\n",
    "    cv.IMREAD_UNCHANGED,\n",
    ")"
   ]
  },
  {
   "cell_type": "code",
   "execution_count": null,
   "id": "dried-advocate",
   "metadata": {},
   "outputs": [],
   "source": []
  },
  {
   "cell_type": "code",
   "execution_count": 8,
   "id": "oriented-height",
   "metadata": {},
   "outputs": [],
   "source": [
    "refe_gray, refe_blur, refe_wlred, refe_b_wlred, refe_b_binary, refe_contours, refe_stars, refe_structures, refe_struc_range_low, refe_struc_range_high = mash(refe)"
   ]
  },
  {
   "cell_type": "code",
   "execution_count": 56,
   "id": "floral-editing",
   "metadata": {},
   "outputs": [],
   "source": [
    "targ_gray, targ_blur, targ_wlred, targ_b_wlred, targ_b_binary, targ_contours, targ_stars, targ_structures, _, _ = mash(targ, refe_struc_range_low, refe_struc_range_high)"
   ]
  },
  {
   "cell_type": "code",
   "execution_count": 10,
   "id": "dutch-istanbul",
   "metadata": {},
   "outputs": [
    {
     "data": {
      "text/plain": [
       "(124, 118)"
      ]
     },
     "execution_count": 10,
     "metadata": {},
     "output_type": "execute_result"
    }
   ],
   "source": [
    "len(refe_structures), len(targ_structures)"
   ]
  },
  {
   "cell_type": "markdown",
   "id": "interior-belarus",
   "metadata": {},
   "source": [
    "- star match\n",
    "    - star field structure\n",
    "- star align\n",
    "    - calculate transform matrix"
   ]
  },
  {
   "cell_type": "markdown",
   "id": "ranking-tooth",
   "metadata": {},
   "source": [
    "## Star Match"
   ]
  },
  {
   "cell_type": "markdown",
   "id": "earlier-hopkins",
   "metadata": {},
   "source": [
    "### star field structure"
   ]
  },
  {
   "cell_type": "markdown",
   "id": "convinced-boards",
   "metadata": {},
   "source": [
    "- find brightest in refe\n",
    "- calculate distance between brightest and all others\n",
    "- cut a range in these distances\n",
    "-\n",
    "- for each star, find all stars within range\n",
    "- calculate vector from source to target\n",
    "- every two vector within angle PI form a triangle, fully characterized by the inner angle and the ratio of the two vector magnitudes (mind the order)\n",
    "    - take brightest star as angle reference vector\n",
    "    - for each vector, calculate angle from angle ref. vector (anticlockwise)\n",
    "    - sort vectors by angle\n",
    "    - (2 layer) iterate the list, take the anticlockwise angle (later minus former), ratio be the former divided by the later\n",
    "- so the structure feature array `Sn` would be of the form: `[ Vector1Triangle0, V1T1, V1T2, V2T0, V2T1, V3T0, ... ]`, with each `VnTn` of the form: `[angle, ratio]`\n",
    "-\n",
    "- pick 2 structures if categorized as similar, treat the source as the same star\n",
    "    - pick `S1[i1]` as start, iterate `S2` untile find a match `S2[i2]`\n",
    "    - pick `S1[i1+1]`, start at `S2[i2+1]`, find match at `S2[i2+n1]`\n",
    "    - do the same for `S1[i1+2]`, start at `S2[i2+n1+1]`, find match at `S2[i2+n1+n2]`"
   ]
  },
  {
   "cell_type": "markdown",
   "id": "round-lounge",
   "metadata": {},
   "source": [
    "#### test area"
   ]
  },
  {
   "cell_type": "code",
   "execution_count": 11,
   "id": "unnecessary-beginning",
   "metadata": {
    "collapsed": true
   },
   "outputs": [
    {
     "data": {
      "text/plain": [
       "((array([3453.97849113, 1300.13092681]), 0.3607522),\n",
       " (array([3383.13345438, 1268.1062361 ]), 0.34451726))"
      ]
     },
     "execution_count": 11,
     "metadata": {},
     "output_type": "execute_result"
    }
   ],
   "source": [
    "refe_stars[2], targ_stars[7]"
   ]
  },
  {
   "cell_type": "code",
   "execution_count": 12,
   "id": "hydraulic-kelly",
   "metadata": {
    "collapsed": true
   },
   "outputs": [
    {
     "data": {
      "text/plain": [
       "(array([3453.97849113, 1300.13092681]), array([3383.13345438, 1268.1062361 ]))"
      ]
     },
     "execution_count": 12,
     "metadata": {},
     "output_type": "execute_result"
    }
   ],
   "source": [
    "refe_structures[2][0], targ_structures[7][0]"
   ]
  },
  {
   "cell_type": "markdown",
   "id": "prerequisite-royalty",
   "metadata": {},
   "source": [
    "okay ... by eyeball 2 and 7 are the same star, how to get this result from the feature array?"
   ]
  },
  {
   "cell_type": "code",
   "execution_count": 13,
   "id": "administrative-intersection",
   "metadata": {
    "collapsed": true
   },
   "outputs": [
    {
     "data": {
      "text/plain": [
       "((120, 2), (123, 2))"
      ]
     },
     "execution_count": 13,
     "metadata": {},
     "output_type": "execute_result"
    }
   ],
   "source": [
    "refe_structures[2][1].shape, targ_structures[7][1].shape"
   ]
  },
  {
   "cell_type": "code",
   "execution_count": 14,
   "id": "genuine-spyware",
   "metadata": {
    "collapsed": true
   },
   "outputs": [
    {
     "data": {
      "text/plain": [
       "<matplotlib.collections.PathCollection at 0x2900820e8e0>"
      ]
     },
     "execution_count": 14,
     "metadata": {},
     "output_type": "execute_result"
    },
    {
     "data": {
      "image/png": "[encoded data removed]",
      "text/plain": [
       "<Figure size 432x288 with 1 Axes>"
      ]
     },
     "metadata": {
      "needs_background": "light"
     },
     "output_type": "display_data"
    }
   ],
   "source": [
    "plt.scatter(*refe_structures[2][1].T)"
   ]
  },
  {
   "cell_type": "code",
   "execution_count": 15,
   "id": "wireless-circular",
   "metadata": {
    "collapsed": true
   },
   "outputs": [
    {
     "data": {
      "text/plain": [
       "<matplotlib.collections.PathCollection at 0x2900854b550>"
      ]
     },
     "execution_count": 15,
     "metadata": {},
     "output_type": "execute_result"
    },
    {
     "data": {
      "image/png": "[encoded data removed]",
      "text/plain": [
       "<Figure size 432x288 with 1 Axes>"
      ]
     },
     "metadata": {
      "needs_background": "light"
     },
     "output_type": "display_data"
    }
   ],
   "source": [
    "plt.scatter(*targ_structures[7][1].T)"
   ]
  },
  {
   "cell_type": "markdown",
   "id": "corrected-theorem",
   "metadata": {},
   "source": [
    "try to represent 'correlation'"
   ]
  },
  {
   "cell_type": "code",
   "execution_count": 16,
   "id": "straight-drama",
   "metadata": {
    "collapsed": true
   },
   "outputs": [],
   "source": [
    "distance = []\n",
    "for r in refe_structures[2][1]:\n",
    "    for t in targ_structures[7][1]:\n",
    "        distance.append(np.linalg.norm(r - t))"
   ]
  },
  {
   "cell_type": "code",
   "execution_count": 17,
   "id": "printable-america",
   "metadata": {
    "collapsed": true
   },
   "outputs": [],
   "source": [
    "t = np.array(distance)"
   ]
  },
  {
   "cell_type": "markdown",
   "id": "collect-partner",
   "metadata": {},
   "source": [
    "find the characteristic of matched star feature array"
   ]
  },
  {
   "cell_type": "code",
   "execution_count": 18,
   "id": "curious-travel",
   "metadata": {
    "collapsed": true
   },
   "outputs": [
    {
     "data": {
      "text/plain": [
       "(1.1042771166972114, (14760,))"
      ]
     },
     "execution_count": 18,
     "metadata": {},
     "output_type": "execute_result"
    }
   ],
   "source": [
    "t.std(), t.shape"
   ]
  },
  {
   "cell_type": "code",
   "execution_count": 19,
   "id": "meaning-particular",
   "metadata": {
    "collapsed": true
   },
   "outputs": [
    {
     "data": {
      "text/plain": [
       "(array([ 0.,  0.,  0.,  0.,  0.,  0.,  0.,  0.,  0.,  0.,  0.,  0.,  0.,\n",
       "         0.,  0.,  0.,  2., 25., 23., 21.,  9.,  3.,  0.,  3.,  2.,  0.,\n",
       "         2.,  2.,  1.,  1.,  0.,  0.,  0.,  0.,  0.,  0.,  0.,  0.,  0.,\n",
       "         0.,  0.,  0.,  0.,  0.,  0.,  0.,  0.,  0.,  0.,  0.,  0.,  0.,\n",
       "         0.,  0.,  0.,  0.,  0.,  0.,  0.,  0.,  0.,  0.,  0.,  1.,  0.,\n",
       "         0.,  0.,  0.,  2.,  0.,  0.,  0.,  0.,  0.,  0.,  1.,  1.,  0.,\n",
       "         1.,  0.,  0.,  0.,  0.,  0.,  1.,  0.,  1.,  0.,  0.,  2.,  1.,\n",
       "         2.,  1.,  0.,  1.,  1.,  2.,  1.,  0.,  0.]),\n",
       " array([-0.01  , -0.0094, -0.0088, -0.0082, -0.0076, -0.007 , -0.0064,\n",
       "        -0.0058, -0.0052, -0.0046, -0.004 , -0.0034, -0.0028, -0.0022,\n",
       "        -0.0016, -0.001 , -0.0004,  0.0002,  0.0008,  0.0014,  0.002 ,\n",
       "         0.0026,  0.0032,  0.0038,  0.0044,  0.005 ,  0.0056,  0.0062,\n",
       "         0.0068,  0.0074,  0.008 ,  0.0086,  0.0092,  0.0098,  0.0104,\n",
       "         0.011 ,  0.0116,  0.0122,  0.0128,  0.0134,  0.014 ,  0.0146,\n",
       "         0.0152,  0.0158,  0.0164,  0.017 ,  0.0176,  0.0182,  0.0188,\n",
       "         0.0194,  0.02  ,  0.0206,  0.0212,  0.0218,  0.0224,  0.023 ,\n",
       "         0.0236,  0.0242,  0.0248,  0.0254,  0.026 ,  0.0266,  0.0272,\n",
       "         0.0278,  0.0284,  0.029 ,  0.0296,  0.0302,  0.0308,  0.0314,\n",
       "         0.032 ,  0.0326,  0.0332,  0.0338,  0.0344,  0.035 ,  0.0356,\n",
       "         0.0362,  0.0368,  0.0374,  0.038 ,  0.0386,  0.0392,  0.0398,\n",
       "         0.0404,  0.041 ,  0.0416,  0.0422,  0.0428,  0.0434,  0.044 ,\n",
       "         0.0446,  0.0452,  0.0458,  0.0464,  0.047 ,  0.0476,  0.0482,\n",
       "         0.0488,  0.0494,  0.05  ]),\n",
       " <BarContainer object of 100 artists>)"
      ]
     },
     "execution_count": 19,
     "metadata": {},
     "output_type": "execute_result"
    },
    {
     "data": {
      "image/png": "[encoded data removed]",
      "text/plain": [
       "<Figure size 432x288 with 1 Axes>"
      ]
     },
     "metadata": {
      "needs_background": "light"
     },
     "output_type": "display_data"
    }
   ],
   "source": [
    "plt.hist(t, bins=100, range=(-0.01, 0.05))"
   ]
  },
  {
   "cell_type": "markdown",
   "id": "ideal-egypt",
   "metadata": {},
   "source": [
    "find an appropriate function to 'weight' distance"
   ]
  },
  {
   "cell_type": "code",
   "execution_count": 20,
   "id": "narrative-sleeve",
   "metadata": {
    "collapsed": true
   },
   "outputs": [],
   "source": [
    "x = np.linspace(0, 0.1, 1000)"
   ]
  },
  {
   "cell_type": "code",
   "execution_count": 21,
   "id": "searching-crest",
   "metadata": {
    "collapsed": true
   },
   "outputs": [
    {
     "data": {
      "text/plain": [
       "[<matplotlib.lines.Line2D at 0x29008798880>]"
      ]
     },
     "execution_count": 21,
     "metadata": {},
     "output_type": "execute_result"
    },
    {
     "data": {
      "image/png": "[encoded data removed]",
      "text/plain": [
       "<Figure size 432x288 with 1 Axes>"
      ]
     },
     "metadata": {
      "needs_background": "light"
     },
     "output_type": "display_data"
    }
   ],
   "source": [
    "y = 2 / ( 1 + np.exp(np.power((80*x), 3)) )\n",
    "plt.plot(x, y)"
   ]
  },
  {
   "cell_type": "markdown",
   "id": "unlimited-discrimination",
   "metadata": {},
   "source": [
    "test run"
   ]
  },
  {
   "cell_type": "code",
   "execution_count": 22,
   "id": "asian-creature",
   "metadata": {
    "collapsed": true
   },
   "outputs": [
    {
     "name": "stderr",
     "output_type": "stream",
     "text": [
      "<ipython-input-22-744bd4d808c6>:1: RuntimeWarning: overflow encountered in exp\n",
      "  score = 2 / ( 1 + np.exp(np.power((80*t), 3)) )\n"
     ]
    }
   ],
   "source": [
    "score = 2 / ( 1 + np.exp(np.power((80*t), 3)) )"
   ]
  },
  {
   "cell_type": "code",
   "execution_count": 23,
   "id": "extended-copper",
   "metadata": {
    "collapsed": true
   },
   "outputs": [
    {
     "data": {
      "text/plain": [
       "0.3842263545831961"
      ]
     },
     "execution_count": 23,
     "metadata": {},
     "output_type": "execute_result"
    }
   ],
   "source": [
    "score.sum() / (len(refe_structures[2][1]) + len(targ_structures[7][1]))"
   ]
  },
  {
   "cell_type": "markdown",
   "id": "reliable-silence",
   "metadata": {},
   "source": [
    "---\n",
    "---"
   ]
  },
  {
   "cell_type": "code",
   "execution_count": 32,
   "id": "durable-authorization",
   "metadata": {},
   "outputs": [],
   "source": [
    "# def score_feature_correlation(\n",
    "#     f1: np.ndarray,\n",
    "#     f2: np.ndarray,\n",
    "#     weight_cliff_coeff: int = 80,\n",
    "# ) -> float:\n",
    "#     separation: list[float] = []\n",
    "#     for triangle_1 in f1:\n",
    "#         for triangle_2 in f2:\n",
    "#             separation.append(np.linalg.norm(triangle_2 - triangle_1))\n",
    "#     s = np.array(separation)\n",
    "#     normalized_separation = 2 / (1 + np.exp(\n",
    "#         np.power( (weight_cliff_coeff * s), 3 )\n",
    "#     ))\n",
    "#     return normalized_separation.sum() / (len(f1) + len(f2))\n",
    "\n",
    "def score_feature_correlation(\n",
    "    # the order of `f1` and `f2` does not matter\n",
    "    f1: np.ndarray,  # f1: SNx2A[ [angle, ratio] ]\n",
    "    f2: np.ndarray,  # f2: SMx2A[ [angle, ratio] ]\n",
    "    weight_cliff_coeff: int = 80,\n",
    ") -> float:\n",
    "    # prepare `f1` and `f2` to be in the 'cartesian product' shape 'S NMx2 A'\n",
    "    f1e = np.repeat(f1, len(f2), axis=0)\n",
    "    f2e = np.tile(f2, (len(f1), 1))\n",
    "\n",
    "    separation = np.linalg.norm(f2e - f1e, axis=1)\n",
    "    # normalized_separation = 2 / (\n",
    "    #     1 + np.exp(np.power(weight_cliff_coeff * separation, 3))\n",
    "    # )\n",
    "    normalized_separation = np.divide(\n",
    "        2,\n",
    "        np.add(\n",
    "            1,\n",
    "            np.exp(\n",
    "                np.power(\n",
    "                    np.multiply(weight_cliff_coeff, separation),\n",
    "                    3\n",
    "                )\n",
    "            )\n",
    "        )\n",
    "    )\n",
    "\n",
    "    return normalized_separation.sum() / (len(f1) + len(f2))"
   ]
  },
  {
   "cell_type": "markdown",
   "id": "floating-desperate",
   "metadata": {},
   "source": [
    "test robustness and pick threshold"
   ]
  },
  {
   "cell_type": "code",
   "execution_count": 25,
   "id": "exact-acoustic",
   "metadata": {},
   "outputs": [],
   "source": [
    "tsl = []"
   ]
  },
  {
   "cell_type": "code",
   "execution_count": 26,
   "id": "saving-residence",
   "metadata": {
    "collapsed": true
   },
   "outputs": [
    {
     "name": "stderr",
     "output_type": "stream",
     "text": [
      "<ipython-input-24-a80cf154c176>:33: RuntimeWarning: overflow encountered in exp\n",
      "  np.exp(\n"
     ]
    }
   ],
   "source": [
    "for source in refe_structures:\n",
    "    for target in targ_structures:\n",
    "        tsl.append(score_feature_correlation(source[1], target[1]))"
   ]
  },
  {
   "cell_type": "code",
   "execution_count": 27,
   "id": "proved-interaction",
   "metadata": {
    "collapsed": true
   },
   "outputs": [
    {
     "data": {
      "text/plain": [
       "(array([1.359e+03, 1.409e+03, 1.623e+03, 1.593e+03, 1.387e+03, 1.193e+03,\n",
       "        1.004e+03, 8.440e+02, 7.790e+02, 6.550e+02, 5.790e+02, 5.240e+02,\n",
       "        4.360e+02, 3.290e+02, 2.410e+02, 1.660e+02, 1.280e+02, 9.100e+01,\n",
       "        6.600e+01, 3.600e+01, 3.400e+01, 2.100e+01, 1.500e+01, 1.000e+00,\n",
       "        4.000e+00, 1.000e+00, 1.000e+00, 1.000e+00, 0.000e+00, 2.000e+00,\n",
       "        0.000e+00, 1.000e+00, 0.000e+00, 1.000e+00, 0.000e+00, 0.000e+00,\n",
       "        0.000e+00, 0.000e+00, 0.000e+00, 0.000e+00, 0.000e+00, 0.000e+00,\n",
       "        0.000e+00, 0.000e+00, 0.000e+00, 0.000e+00, 0.000e+00, 0.000e+00,\n",
       "        0.000e+00, 0.000e+00, 0.000e+00, 0.000e+00, 0.000e+00, 0.000e+00,\n",
       "        0.000e+00, 0.000e+00, 0.000e+00, 0.000e+00, 0.000e+00, 0.000e+00,\n",
       "        0.000e+00, 0.000e+00, 0.000e+00, 0.000e+00, 0.000e+00, 0.000e+00,\n",
       "        0.000e+00, 0.000e+00, 0.000e+00, 0.000e+00, 0.000e+00, 0.000e+00,\n",
       "        0.000e+00, 0.000e+00, 0.000e+00, 0.000e+00, 0.000e+00, 0.000e+00,\n",
       "        0.000e+00, 0.000e+00, 0.000e+00, 0.000e+00, 0.000e+00, 0.000e+00,\n",
       "        0.000e+00, 0.000e+00, 0.000e+00, 0.000e+00, 0.000e+00, 0.000e+00,\n",
       "        0.000e+00, 0.000e+00, 0.000e+00, 0.000e+00, 0.000e+00, 0.000e+00,\n",
       "        0.000e+00, 0.000e+00, 0.000e+00, 0.000e+00, 0.000e+00, 0.000e+00,\n",
       "        0.000e+00, 0.000e+00, 0.000e+00, 0.000e+00, 0.000e+00, 0.000e+00,\n",
       "        0.000e+00, 0.000e+00, 0.000e+00, 0.000e+00, 0.000e+00, 0.000e+00,\n",
       "        0.000e+00, 0.000e+00, 0.000e+00, 0.000e+00, 0.000e+00, 0.000e+00,\n",
       "        0.000e+00, 0.000e+00, 0.000e+00, 0.000e+00, 0.000e+00, 0.000e+00,\n",
       "        0.000e+00, 0.000e+00, 0.000e+00, 0.000e+00, 0.000e+00, 0.000e+00,\n",
       "        0.000e+00, 0.000e+00, 1.000e+00, 0.000e+00, 1.000e+00, 1.000e+00,\n",
       "        0.000e+00, 0.000e+00, 1.000e+00, 1.000e+00, 0.000e+00, 0.000e+00,\n",
       "        1.000e+00, 2.000e+00, 0.000e+00, 0.000e+00, 0.000e+00, 2.000e+00,\n",
       "        0.000e+00, 3.000e+00, 2.000e+00, 1.000e+00, 1.000e+00, 0.000e+00,\n",
       "        3.000e+00, 1.000e+00, 1.000e+00, 2.000e+00, 2.000e+00, 1.000e+00,\n",
       "        3.000e+00, 1.000e+00, 2.000e+00, 1.000e+00, 0.000e+00, 0.000e+00,\n",
       "        4.000e+00, 7.000e+00, 3.000e+00, 7.000e+00, 3.000e+00, 4.000e+00,\n",
       "        6.000e+00, 2.000e+00, 2.000e+00, 2.000e+00, 9.000e+00, 1.000e+00,\n",
       "        4.000e+00, 2.000e+00, 2.000e+00, 0.000e+00, 0.000e+00, 0.000e+00,\n",
       "        3.000e+00, 0.000e+00, 3.000e+00, 1.000e+00, 0.000e+00, 0.000e+00,\n",
       "        5.000e+00, 0.000e+00, 0.000e+00, 1.000e+00, 0.000e+00, 1.000e+00,\n",
       "        0.000e+00, 2.000e+00]),\n",
       " array([5.41202065e-122, 2.44134721e-003, 4.88269442e-003, 7.32404163e-003,\n",
       "        9.76538884e-003, 1.22067361e-002, 1.46480833e-002, 1.70894305e-002,\n",
       "        1.95307777e-002, 2.19721249e-002, 2.44134721e-002, 2.68548193e-002,\n",
       "        2.92961665e-002, 3.17375137e-002, 3.41788610e-002, 3.66202082e-002,\n",
       "        3.90615554e-002, 4.15029026e-002, 4.39442498e-002, 4.63855970e-002,\n",
       "        4.88269442e-002, 5.12682914e-002, 5.37096386e-002, 5.61509859e-002,\n",
       "        5.85923331e-002, 6.10336803e-002, 6.34750275e-002, 6.59163747e-002,\n",
       "        6.83577219e-002, 7.07990691e-002, 7.32404163e-002, 7.56817635e-002,\n",
       "        7.81231108e-002, 8.05644580e-002, 8.30058052e-002, 8.54471524e-002,\n",
       "        8.78884996e-002, 9.03298468e-002, 9.27711940e-002, 9.52125412e-002,\n",
       "        9.76538884e-002, 1.00095236e-001, 1.02536583e-001, 1.04977930e-001,\n",
       "        1.07419277e-001, 1.09860624e-001, 1.12301972e-001, 1.14743319e-001,\n",
       "        1.17184666e-001, 1.19626013e-001, 1.22067361e-001, 1.24508708e-001,\n",
       "        1.26950055e-001, 1.29391402e-001, 1.31832749e-001, 1.34274097e-001,\n",
       "        1.36715444e-001, 1.39156791e-001, 1.41598138e-001, 1.44039485e-001,\n",
       "        1.46480833e-001, 1.48922180e-001, 1.51363527e-001, 1.53804874e-001,\n",
       "        1.56246222e-001, 1.58687569e-001, 1.61128916e-001, 1.63570263e-001,\n",
       "        1.66011610e-001, 1.68452958e-001, 1.70894305e-001, 1.73335652e-001,\n",
       "        1.75776999e-001, 1.78218346e-001, 1.80659694e-001, 1.83101041e-001,\n",
       "        1.85542388e-001, 1.87983735e-001, 1.90425082e-001, 1.92866430e-001,\n",
       "        1.95307777e-001, 1.97749124e-001, 2.00190471e-001, 2.02631819e-001,\n",
       "        2.05073166e-001, 2.07514513e-001, 2.09955860e-001, 2.12397207e-001,\n",
       "        2.14838555e-001, 2.17279902e-001, 2.19721249e-001, 2.22162596e-001,\n",
       "        2.24603943e-001, 2.27045291e-001, 2.29486638e-001, 2.31927985e-001,\n",
       "        2.34369332e-001, 2.36810679e-001, 2.39252027e-001, 2.41693374e-001,\n",
       "        2.44134721e-001, 2.46576068e-001, 2.49017416e-001, 2.51458763e-001,\n",
       "        2.53900110e-001, 2.56341457e-001, 2.58782804e-001, 2.61224152e-001,\n",
       "        2.63665499e-001, 2.66106846e-001, 2.68548193e-001, 2.70989540e-001,\n",
       "        2.73430888e-001, 2.75872235e-001, 2.78313582e-001, 2.80754929e-001,\n",
       "        2.83196276e-001, 2.85637624e-001, 2.88078971e-001, 2.90520318e-001,\n",
       "        2.92961665e-001, 2.95403013e-001, 2.97844360e-001, 3.00285707e-001,\n",
       "        3.02727054e-001, 3.05168401e-001, 3.07609749e-001, 3.10051096e-001,\n",
       "        3.12492443e-001, 3.14933790e-001, 3.17375137e-001, 3.19816485e-001,\n",
       "        3.22257832e-001, 3.24699179e-001, 3.27140526e-001, 3.29581873e-001,\n",
       "        3.32023221e-001, 3.34464568e-001, 3.36905915e-001, 3.39347262e-001,\n",
       "        3.41788610e-001, 3.44229957e-001, 3.46671304e-001, 3.49112651e-001,\n",
       "        3.51553998e-001, 3.53995346e-001, 3.56436693e-001, 3.58878040e-001,\n",
       "        3.61319387e-001, 3.63760734e-001, 3.66202082e-001, 3.68643429e-001,\n",
       "        3.71084776e-001, 3.73526123e-001, 3.75967471e-001, 3.78408818e-001,\n",
       "        3.80850165e-001, 3.83291512e-001, 3.85732859e-001, 3.88174207e-001,\n",
       "        3.90615554e-001, 3.93056901e-001, 3.95498248e-001, 3.97939595e-001,\n",
       "        4.00380943e-001, 4.02822290e-001, 4.05263637e-001, 4.07704984e-001,\n",
       "        4.10146331e-001, 4.12587679e-001, 4.15029026e-001, 4.17470373e-001,\n",
       "        4.19911720e-001, 4.22353068e-001, 4.24794415e-001, 4.27235762e-001,\n",
       "        4.29677109e-001, 4.32118456e-001, 4.34559804e-001, 4.37001151e-001,\n",
       "        4.39442498e-001, 4.41883845e-001, 4.44325192e-001, 4.46766540e-001,\n",
       "        4.49207887e-001, 4.51649234e-001, 4.54090581e-001, 4.56531928e-001,\n",
       "        4.58973276e-001, 4.61414623e-001, 4.63855970e-001, 4.66297317e-001,\n",
       "        4.68738665e-001, 4.71180012e-001, 4.73621359e-001, 4.76062706e-001,\n",
       "        4.78504053e-001, 4.80945401e-001, 4.83386748e-001, 4.85828095e-001,\n",
       "        4.88269442e-001]),\n",
       " <BarContainer object of 200 artists>)"
      ]
     },
     "execution_count": 27,
     "metadata": {},
     "output_type": "execute_result"
    },
    {
     "data": {
      "image/png": "[encoded data removed]",
      "text/plain": [
       "<Figure size 432x288 with 1 Axes>"
      ]
     },
     "metadata": {
      "needs_background": "light"
     },
     "output_type": "display_data"
    }
   ],
   "source": [
    "plt.hist(tsl, bins=200)"
   ]
  },
  {
   "cell_type": "code",
   "execution_count": 28,
   "id": "objective-vocabulary",
   "metadata": {
    "collapsed": true
   },
   "outputs": [
    {
     "data": {
      "text/plain": [
       "(array([0., 0., 0., 0., 0., 0., 0., 0., 0., 0., 0., 0., 0., 0., 0., 0., 0.,\n",
       "        0., 0., 0., 0., 0., 0., 0., 0., 0., 0., 0., 0., 0., 0., 0., 0., 0.,\n",
       "        0., 0., 0., 0., 0., 0., 0., 0., 0., 0., 0., 0., 0., 0., 0., 0., 0.,\n",
       "        0., 0., 0., 0., 0., 0., 0., 0., 0., 0., 0., 0., 0., 0., 0., 0., 0.,\n",
       "        0., 0., 0., 0., 0., 0., 0., 0., 0., 0., 0., 0., 0., 0., 0., 0., 0.,\n",
       "        0., 0., 0., 0., 0., 0., 0., 0., 0., 0., 0., 0., 0., 0., 0., 0., 0.,\n",
       "        0., 0., 0., 0., 0., 0., 0., 0., 0., 0., 0., 1., 0., 0., 1., 1., 0.,\n",
       "        0., 1., 0., 1., 0., 0., 0., 1., 2., 0., 0., 0., 1., 1., 0., 0., 4.,\n",
       "        1., 1., 1., 0., 2., 1., 1., 1., 2., 0., 2., 2., 2., 1., 2., 0., 1.,\n",
       "        0., 0., 3., 5., 4., 2., 7., 3., 3., 4., 3., 3., 1., 2., 6., 3., 2.,\n",
       "        3., 2., 2., 0., 0., 0., 0., 2., 1., 1., 2., 1., 0., 0., 3., 2., 0.,\n",
       "        0., 1., 0., 0., 1., 0., 1., 1., 0., 0., 0., 0., 0.]),\n",
       " array([0.1  , 0.102, 0.104, 0.106, 0.108, 0.11 , 0.112, 0.114, 0.116,\n",
       "        0.118, 0.12 , 0.122, 0.124, 0.126, 0.128, 0.13 , 0.132, 0.134,\n",
       "        0.136, 0.138, 0.14 , 0.142, 0.144, 0.146, 0.148, 0.15 , 0.152,\n",
       "        0.154, 0.156, 0.158, 0.16 , 0.162, 0.164, 0.166, 0.168, 0.17 ,\n",
       "        0.172, 0.174, 0.176, 0.178, 0.18 , 0.182, 0.184, 0.186, 0.188,\n",
       "        0.19 , 0.192, 0.194, 0.196, 0.198, 0.2  , 0.202, 0.204, 0.206,\n",
       "        0.208, 0.21 , 0.212, 0.214, 0.216, 0.218, 0.22 , 0.222, 0.224,\n",
       "        0.226, 0.228, 0.23 , 0.232, 0.234, 0.236, 0.238, 0.24 , 0.242,\n",
       "        0.244, 0.246, 0.248, 0.25 , 0.252, 0.254, 0.256, 0.258, 0.26 ,\n",
       "        0.262, 0.264, 0.266, 0.268, 0.27 , 0.272, 0.274, 0.276, 0.278,\n",
       "        0.28 , 0.282, 0.284, 0.286, 0.288, 0.29 , 0.292, 0.294, 0.296,\n",
       "        0.298, 0.3  , 0.302, 0.304, 0.306, 0.308, 0.31 , 0.312, 0.314,\n",
       "        0.316, 0.318, 0.32 , 0.322, 0.324, 0.326, 0.328, 0.33 , 0.332,\n",
       "        0.334, 0.336, 0.338, 0.34 , 0.342, 0.344, 0.346, 0.348, 0.35 ,\n",
       "        0.352, 0.354, 0.356, 0.358, 0.36 , 0.362, 0.364, 0.366, 0.368,\n",
       "        0.37 , 0.372, 0.374, 0.376, 0.378, 0.38 , 0.382, 0.384, 0.386,\n",
       "        0.388, 0.39 , 0.392, 0.394, 0.396, 0.398, 0.4  , 0.402, 0.404,\n",
       "        0.406, 0.408, 0.41 , 0.412, 0.414, 0.416, 0.418, 0.42 , 0.422,\n",
       "        0.424, 0.426, 0.428, 0.43 , 0.432, 0.434, 0.436, 0.438, 0.44 ,\n",
       "        0.442, 0.444, 0.446, 0.448, 0.45 , 0.452, 0.454, 0.456, 0.458,\n",
       "        0.46 , 0.462, 0.464, 0.466, 0.468, 0.47 , 0.472, 0.474, 0.476,\n",
       "        0.478, 0.48 , 0.482, 0.484, 0.486, 0.488, 0.49 , 0.492, 0.494,\n",
       "        0.496, 0.498, 0.5  ]),\n",
       " <BarContainer object of 200 artists>)"
      ]
     },
     "execution_count": 28,
     "metadata": {},
     "output_type": "execute_result"
    },
    {
     "data": {
      "image/png": "[encoded data removed]",
      "text/plain": [
       "<Figure size 432x288 with 1 Axes>"
      ]
     },
     "metadata": {
      "needs_background": "light"
     },
     "output_type": "display_data"
    }
   ],
   "source": [
    "plt.hist(tsl, bins=200, range=(0.1, 0.5))"
   ]
  },
  {
   "cell_type": "code",
   "execution_count": 57,
   "id": "unauthorized-cornell",
   "metadata": {},
   "outputs": [
    {
     "data": {
      "text/plain": [
       "(124, 118, 14632, 108)"
      ]
     },
     "execution_count": 57,
     "metadata": {},
     "output_type": "execute_result"
    }
   ],
   "source": [
    "(len(refe_structures),\n",
    " len(targ_structures),\n",
    " len(tsl),\n",
    " len(tuple(e for e in tsl if 0.3 < e)))"
   ]
  },
  {
   "cell_type": "markdown",
   "id": "internal-coupon",
   "metadata": {},
   "source": [
    "---"
   ]
  },
  {
   "cell_type": "code",
   "execution_count": 59,
   "id": "played-skiing",
   "metadata": {},
   "outputs": [],
   "source": [
    "def find_star_pair(\n",
    "    reference_structures: list[tuple[\n",
    "        np.ndarray,  # S2A[x, y]; star centroid\n",
    "        np.ndarray,  # SNx2A[ [angle, ratio] ]; feature array\n",
    "    ]],\n",
    "    viewing_structures: list[tuple[np.ndarray, np.ndarray]],\n",
    "    match_score_threshold: float = 0.3,\n",
    ") -> list[tuple[\n",
    "    np.ndarray, np.ndarray  # star centroid\n",
    "]]:\n",
    "    vs = viewing_structures.copy()\n",
    "    refe_view_star_pair: list[tuple[np.ndarray, np.ndarray]] = []\n",
    "    for r in reference_structures:\n",
    "        match_list = []\n",
    "        for iv in range(len(vs)):\n",
    "            score = score_feature_correlation(r[1], vs[iv][1])\n",
    "            if match_score_threshold < score:\n",
    "                match_list.append( (vs[iv], iv, score) )\n",
    "        if len(match_list) == 0:\n",
    "            continue\n",
    "        # sort `match_list` by score, descending\n",
    "        match_list.sort(key=lambda e: e[2], reverse=True)\n",
    "        # select highest score match\n",
    "        refe_view_star_pair.append( (r[0], match_list[0][0][0]) )\n",
    "        # remove selected match from search list\n",
    "        vs.pop(match_list[0][1])\n",
    "    return refe_view_star_pair"
   ]
  },
  {
   "cell_type": "code",
   "execution_count": 60,
   "id": "constant-bearing",
   "metadata": {},
   "outputs": [
    {
     "name": "stderr",
     "output_type": "stream",
     "text": [
      "<ipython-input-32-a32a4e6c6080>:34: RuntimeWarning: overflow encountered in exp\n",
      "  np.exp(\n"
     ]
    }
   ],
   "source": [
    "refe_targ_star_pair = find_star_pair(refe_structures, targ_structures)"
   ]
  },
  {
   "cell_type": "code",
   "execution_count": 61,
   "id": "expanded-friendly",
   "metadata": {},
   "outputs": [
    {
     "data": {
      "text/plain": [
       "108"
      ]
     },
     "execution_count": 61,
     "metadata": {},
     "output_type": "execute_result"
    }
   ],
   "source": [
    "len(refe_targ_star_pair)"
   ]
  },
  {
   "cell_type": "markdown",
   "id": "prerequisite-nomination",
   "metadata": {},
   "source": [
    "## Star Align"
   ]
  },
  {
   "cell_type": "code",
   "execution_count": null,
   "id": "exempt-encounter",
   "metadata": {},
   "outputs": [],
   "source": []
  },
  {
   "cell_type": "code",
   "execution_count": null,
   "id": "racial-blake",
   "metadata": {},
   "outputs": [],
   "source": []
  },
  {
   "cell_type": "code",
   "execution_count": null,
   "id": "fresh-monte",
   "metadata": {},
   "outputs": [],
   "source": []
  },
  {
   "cell_type": "markdown",
   "id": "requested-cemetery",
   "metadata": {},
   "source": [
    "## Image Debug Area"
   ]
  },
  {
   "cell_type": "code",
   "execution_count": null,
   "id": "neither-curve",
   "metadata": {},
   "outputs": [],
   "source": [
    "def cvshow(name: str, image: np.ndarray):\n",
    "    cv.namedWindow(name, cv.WINDOW_NORMAL)\n",
    "    cv.resizeWindow(name, 1000, 1000)\n",
    "    cv.moveWindow(name, 130, 20)\n",
    "    cv.imshow(name, image)"
   ]
  },
  {
   "cell_type": "code",
   "execution_count": null,
   "id": "scheduled-vegetable",
   "metadata": {},
   "outputs": [],
   "source": []
  },
  {
   "cell_type": "code",
   "execution_count": null,
   "id": "objective-reminder",
   "metadata": {},
   "outputs": [],
   "source": [
    "rtimg = cv.cvtColor(\n",
    "    (refe_gray * (np.iinfo(np.uint8).max / np.iinfo(np.uint16).max)).astype(np.uint8),\n",
    "    cv.COLOR_GRAY2BGR,\n",
    ")\n",
    "for c in tuple(e[0] for e in refe_stars):\n",
    "    cv.drawMarker(rtimg, tuple(int(e) for e in c), (0, 0, 255))"
   ]
  },
  {
   "cell_type": "code",
   "execution_count": null,
   "id": "distant-adventure",
   "metadata": {},
   "outputs": [],
   "source": [
    "ttimg = cv.cvtColor(\n",
    "    (targ_gray * (np.iinfo(np.uint8).max / np.iinfo(np.uint16).max)).astype(np.uint8),\n",
    "    cv.COLOR_GRAY2BGR,\n",
    ")\n",
    "for c in tuple(e[0] for e in targ_stars):\n",
    "    cv.drawMarker(ttimg, tuple(int(e) for e in c), (0, 0, 255))"
   ]
  },
  {
   "cell_type": "code",
   "execution_count": null,
   "id": "middle-talent",
   "metadata": {},
   "outputs": [],
   "source": []
  },
  {
   "cell_type": "code",
   "execution_count": null,
   "id": "quick-complaint",
   "metadata": {},
   "outputs": [],
   "source": [
    "# cvshow('refe_photo', refe_photo)\n",
    "# cvshow('refe_photo_g', refe_photo_g)\n",
    "# [1844:2044, 1844:2044]\n",
    "# [1744:2144, 1744:2144]\n",
    "# [1444:2444, 1444:2444]\n",
    "\n",
    "\n",
    "# cvshow('refe gray', refe_gray)\n",
    "cvshow('refe wlred', refe_wlred)\n",
    "cvshow('rtimg', rtimg)\n",
    "\n",
    "# cvshow('targ gray', targ_gray)\n",
    "cvshow('targ wlred', targ_wlred)\n",
    "cvshow('ttimg', ttimg)\n",
    "\n",
    "\n",
    "cv.waitKey(0)\n",
    "cv.destroyAllWindows()"
   ]
  },
  {
   "cell_type": "code",
   "execution_count": null,
   "id": "actual-sample",
   "metadata": {},
   "outputs": [],
   "source": [
    "# [2500:2550, 125:175]\n",
    "# cvshow('refe gray', refe_gray[1175:1425,3325:3575])\n",
    "cvshow('refe wlred', refe_wlred[1175:1425,3325:3575])\n",
    "cvshow('rtimg', rtimg[1175:1425,3325:3575])\n",
    "\n",
    "# cvshow('targ gray', targ_gray[1140:1390,3260:3510])\n",
    "cvshow('targ wlred', targ_wlred[1140:1390,3260:3510])\n",
    "cvshow('ttimg', ttimg[1140:1390,3260:3510])\n",
    "\n",
    "\n",
    "cv.waitKey(0)\n",
    "cv.destroyAllWindows()"
   ]
  },
  {
   "cell_type": "code",
   "execution_count": null,
   "id": "elegant-iceland",
   "metadata": {},
   "outputs": [],
   "source": [
    "cv.waitKey(0)\n",
    "cv.destroyAllWindows()"
   ]
  }
 ],
 "metadata": {
  "kernelspec": {
   "display_name": "Python 3",
   "language": "python",
   "name": "python3"
  },
  "language_info": {
   "codemirror_mode": {
    "name": "ipython",
    "version": 3
   },
   "file_extension": ".py",
   "mimetype": "text/x-python",
   "name": "python",
   "nbconvert_exporter": "python",
   "pygments_lexer": "ipython3",
   "version": "3.8.6"
  }
 },
 "nbformat": 4,
 "nbformat_minor": 5
}
