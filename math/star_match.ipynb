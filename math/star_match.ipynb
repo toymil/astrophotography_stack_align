{
 "cells": [
  {
   "cell_type": "code",
   "execution_count": 32,
   "id": "difficult-revision",
   "metadata": {},
   "outputs": [],
   "source": [
    "import matplotlib.pyplot as plt\n",
    "import math"
   ]
  },
  {
   "cell_type": "code",
   "execution_count": 2,
   "id": "level-reach",
   "metadata": {},
   "outputs": [],
   "source": [
    "from __future__ import annotations\n",
    "\n",
    "import os\n",
    "from typing import TypeVar\n",
    "\n",
    "import cv2 as cv\n",
    "import numpy as np\n",
    "import pywt"
   ]
  },
  {
   "cell_type": "code",
   "execution_count": 3,
   "id": "local-savage",
   "metadata": {},
   "outputs": [],
   "source": [
    "def wavelet_dec_red_rec(\n",
    "    image: np.ndarray,\n",
    "    level: int = 5,\n",
    "    remove_to_small_scale_layer: int = -1,\n",
    "    remove_large_scale: bool = True,\n",
    ") -> np.ndarray:\n",
    "    # decomposition\n",
    "    coeffs = pywt.wavedec2(image, 'db8', level=level)\n",
    "    # reduction\n",
    "    for n in tuple(range(remove_to_small_scale_layer, 0)):\n",
    "        for i in tuple(range(0, 3)):\n",
    "            coeffs[n][i].fill(0)\n",
    "    if remove_large_scale:\n",
    "        coeffs[0].fill(0)\n",
    "    # reconstruction\n",
    "    return pywt.waverec2(coeffs, 'db8')\n",
    "\n",
    "\n",
    "T = TypeVar('T')\n",
    "\n",
    "\n",
    "def iof(l: collections.abc.Sequence[T], i: int) -> T:\n",
    "    # index overflow / circular linked list\n",
    "    while True:\n",
    "        if -1 < i < len(l):\n",
    "            break\n",
    "        else:\n",
    "            i -= (i // len(l)) * len(l)\n",
    "    return l[i]\n",
    "\n",
    "\n",
    "def mash(image, struc_range_low=None, struc_range_high=None):\n",
    "    image_gray = cv.cvtColor(image, cv.COLOR_BGR2GRAY)  # grayscale\n",
    "    image_blur = cv.GaussianBlur(image_gray, (9, 9), 0, 0)  # blur\n",
    "\n",
    "    image_b_float = image_blur.astype(np.float32) / np.iinfo(image_blur.dtype).max\n",
    "    image_float = image_gray.astype(np.float32) / np.iinfo(image_gray.dtype).max\n",
    "\n",
    "    image_b_wlred = wavelet_dec_red_rec(image_b_float)\n",
    "    image_wlred = wavelet_dec_red_rec(image_float)\n",
    "    # threshold\n",
    "    image_b_binary = cv.threshold(\n",
    "        (t := image_b_wlred),\n",
    "        t.min() + (t.max() - t.min()) * 0.4,\n",
    "        255,\n",
    "        cv.THRESH_BINARY,\n",
    "    )[1].astype(np.uint8)\n",
    "\n",
    "    # find contours\n",
    "    image_contours = cv.findContours(image_b_binary, cv.RETR_LIST, cv.CHAIN_APPROX_SIMPLE)[0]\n",
    "    image_stars: list[tuple[np.ndarray[float, float], float]] = []  # [( (x, y), intensity )]\n",
    "\n",
    "    for c in image_contours:\n",
    "        # calculate the centroid from clear image, to increase precision\n",
    "        star_mask = cv.drawContours(\n",
    "            np.zeros(image_wlred.shape, image_wlred.dtype),\n",
    "            [c],\n",
    "            0,\n",
    "            1,\n",
    "            cv.FILLED,\n",
    "        )\n",
    "        M = cv.moments(image_wlred * star_mask)\n",
    "        centroid = np.array([M['m10'] / M['m00'], M['m01'] / M['m00']])\n",
    "        # denote brightness from blur image, to increase robustness\n",
    "        brightness = image_b_wlred[int(centroid[1]), int(centroid[0])]\n",
    "\n",
    "        image_stars.append((centroid, brightness))\n",
    "    image_stars.sort(key=lambda e: e[1], reverse=True)\n",
    "    mean = np.array(tuple(e[1] for e in image_stars)).mean()\n",
    "    for i in range(len(image_stars)):\n",
    "        if image_stars[i][1] < mean:\n",
    "            image_stars = image_stars[:i]\n",
    "            break\n",
    "\n",
    "    if struc_range_low is None:\n",
    "        struc_range_low, struc_range_high = (\n",
    "            np.array([0.1, 1])\n",
    "            * np.array(\n",
    "                tuple(np.linalg.norm(s[0] - image_stars[0][0]) for s in image_stars[1:])\n",
    "            ).std()\n",
    "        )\n",
    "\n",
    "    image_structure: list[\n",
    "        tuple[\n",
    "            np.ndarray,  # S2A[x, y]; source star centroid\n",
    "            np.ndarray,  # SNx2A[ [angle, ratio] ]; feature array\n",
    "        ]\n",
    "    ] = []\n",
    "\n",
    "    for s1 in image_stars:\n",
    "        neighbour: list[\n",
    "            list[\n",
    "                np.ndarray,  # [ S2A(separation vector) ]\n",
    "                float,  # magnitude of separation vector\n",
    "                float,  # angle from angle reference vector\n",
    "            ]\n",
    "        ] = []\n",
    "\n",
    "        for s2 in image_stars:\n",
    "            if struc_range_low < np.linalg.norm((sv := (s2[0] - s1[0]))) < struc_range_high:\n",
    "                # populate separation vector and its magnitude\n",
    "                neighbour.append([sv, (sr := np.linalg.norm(sv))])\n",
    "                # Neighbour is already sorted by brightness because `refe_stars`\n",
    "                # is sorted.  So the `neighbour[0][0]` is the angle reference vector.\n",
    "                # populate angle from angle reference vector\n",
    "                neighbour[-1].append(\n",
    "                    np.arccos(np.clip(np.dot(neighbour[0][0], sv) / (neighbour[0][1] * sr), -1, 1))\n",
    "                    * np.sign(np.cross(neighbour[0][0], sv))\n",
    "                )\n",
    "        # too few neighbour do not form enough triangles\n",
    "        if len(neighbour) < 3:\n",
    "            continue\n",
    "\n",
    "        neighbour.sort(key=lambda e: e[2])\n",
    "        feature: list[tuple[float, float]] = []  # [ (angle, ratio) ]\n",
    "        for i1 in range(0, len(neighbour)):\n",
    "            for i2 in range(i1 + 1, i1 + len(neighbour)):\n",
    "                # here we may cross the 'PI, -PI' boundary, then `later - former`\n",
    "                # becomes the clockwise angle (negative value), so we need to\n",
    "                # prepare `later` to be greater\n",
    "                later, former = iof(neighbour, i2)[2], neighbour[i1][2]\n",
    "                if later < former:\n",
    "                    later += 2 * np.pi\n",
    "                angle = later - former\n",
    "                # any angle less than PI is ok, but we take 4/5 PI\n",
    "                if ((4 / 5) * np.pi) < angle:\n",
    "                    break\n",
    "                ratio = neighbour[i1][1] / iof(neighbour, i2)[1]\n",
    "                feature.append((angle, ratio))\n",
    "\n",
    "        image_structure.append((s1[0], np.array(feature)))\n",
    "\n",
    "    return (\n",
    "        image_gray,\n",
    "        image_blur,\n",
    "        image_wlred,\n",
    "        image_b_wlred,\n",
    "        image_b_binary,\n",
    "        image_contours,\n",
    "        image_stars,\n",
    "        image_structure,\n",
    "        struc_range_low,\n",
    "        struc_range_high,\n",
    "    )"
   ]
  },
  {
   "cell_type": "code",
   "execution_count": 4,
   "id": "organized-toddler",
   "metadata": {},
   "outputs": [
    {
     "data": {
      "text/plain": [
       "'__T_0523.TIF'"
      ]
     },
     "execution_count": 4,
     "metadata": {},
     "output_type": "execute_result"
    }
   ],
   "source": [
    "# set tiff input folder\n",
    "dir_input_tiff = os.path.normpath(\n",
    "    os.path.join(\n",
    "        os.getcwd(),\n",
    "        '../',\n",
    "        'input_tiff/size_full',\n",
    "    )\n",
    ")\n",
    "\n",
    "# sort input files\n",
    "tiff_list = os.listdir(dir_input_tiff)\n",
    "tiff_list.sort()\n",
    "# take the sequence middle as the reference frame\n",
    "reference_tiff = tiff_list[len(tiff_list) // 2]\n",
    "# and remove it from the 'to align' list\n",
    "tiff_list.pop(len(tiff_list) // 2)"
   ]
  },
  {
   "cell_type": "code",
   "execution_count": 5,
   "id": "heated-coverage",
   "metadata": {},
   "outputs": [],
   "source": [
    "refe = cv.imread(\n",
    "    os.path.join(dir_input_tiff, reference_tiff),\n",
    "    cv.IMREAD_UNCHANGED,\n",
    ")"
   ]
  },
  {
   "cell_type": "code",
   "execution_count": 86,
   "id": "rental-production",
   "metadata": {},
   "outputs": [
    {
     "data": {
      "text/plain": [
       "('__T_0498.TIF', '__T_0547.TIF')"
      ]
     },
     "execution_count": 86,
     "metadata": {},
     "output_type": "execute_result"
    }
   ],
   "source": [
    "tiff_list[0], tiff_list[-1]"
   ]
  },
  {
   "cell_type": "code",
   "execution_count": 107,
   "id": "paperback-journalist",
   "metadata": {},
   "outputs": [],
   "source": [
    "refe = cv.imread(\n",
    "    os.path.join(dir_input_tiff, '__T_0547.TIF'),\n",
    "    cv.IMREAD_UNCHANGED,\n",
    ")"
   ]
  },
  {
   "cell_type": "code",
   "execution_count": 108,
   "id": "mighty-presentation",
   "metadata": {},
   "outputs": [],
   "source": [
    "targ = cv.imread(\n",
    "    os.path.join(dir_input_tiff, '__T_0498.TIF'),\n",
    "    cv.IMREAD_UNCHANGED,\n",
    ")"
   ]
  },
  {
   "cell_type": "code",
   "execution_count": null,
   "id": "labeled-findings",
   "metadata": {},
   "outputs": [],
   "source": []
  },
  {
   "cell_type": "code",
   "execution_count": 109,
   "id": "little-register",
   "metadata": {},
   "outputs": [],
   "source": [
    "refe_gray, refe_blur, refe_wlred, refe_b_wlred, refe_b_binary, refe_contours, refe_stars, refe_structures, refe_struc_range_low, refe_struc_range_high = mash(refe)"
   ]
  },
  {
   "cell_type": "code",
   "execution_count": 110,
   "id": "historical-shaft",
   "metadata": {},
   "outputs": [],
   "source": [
    "targ_gray, targ_blur, targ_wlred, targ_b_wlred, targ_b_binary, targ_contours, targ_stars, targ_structures, _, _ = mash(targ, refe_struc_range_low, refe_struc_range_high)"
   ]
  },
  {
   "cell_type": "code",
   "execution_count": 111,
   "id": "documented-likelihood",
   "metadata": {},
   "outputs": [
    {
     "data": {
      "text/plain": [
       "(134, 118)"
      ]
     },
     "execution_count": 111,
     "metadata": {},
     "output_type": "execute_result"
    }
   ],
   "source": [
    "len(refe_structures), len(targ_structures)"
   ]
  },
  {
   "cell_type": "markdown",
   "id": "premier-airport",
   "metadata": {},
   "source": [
    "- star match\n",
    "    - star field structure\n",
    "- star align\n",
    "    - calculate transform matrix"
   ]
  },
  {
   "cell_type": "markdown",
   "id": "ranking-tooth",
   "metadata": {},
   "source": [
    "## Star Match"
   ]
  },
  {
   "cell_type": "markdown",
   "id": "earlier-hopkins",
   "metadata": {},
   "source": [
    "### star field structure"
   ]
  },
  {
   "cell_type": "markdown",
   "id": "convinced-boards",
   "metadata": {},
   "source": [
    "- find brightest in refe\n",
    "- calculate distance between brightest and all others\n",
    "- cut a range in these distances\n",
    "-\n",
    "- for each star, find all stars within range\n",
    "- calculate vector from source to target\n",
    "- every two vector within angle PI form a triangle, fully characterized by the inner angle and the ratio of the two vector magnitudes (mind the order)\n",
    "    - take brightest star as angle reference vector\n",
    "    - for each vector, calculate angle from angle ref. vector (anticlockwise)\n",
    "    - sort vectors by angle\n",
    "    - (2 layer) iterate the list, take the anticlockwise angle (later minus former), ratio be the former divided by the later\n",
    "- so the structure feature array `Sn` would be of the form: `[ Vector1Triangle0, V1T1, V1T2, V2T0, V2T1, V3T0, ... ]`, with each `VnTn` of the form: `[angle, ratio]`\n",
    "-\n",
    "- pick 2 structures if categorized as similar, treat the source as the same star\n",
    "    - pick `S1[i1]` as start, iterate `S2` untile find a match `S2[i2]`\n",
    "    - pick `S1[i1+1]`, start at `S2[i2+1]`, find match at `S2[i2+n1]`\n",
    "    - do the same for `S1[i1+2]`, start at `S2[i2+n1+1]`, find match at `S2[i2+n1+n2]`"
   ]
  },
  {
   "cell_type": "markdown",
   "id": "portable-boxing",
   "metadata": {},
   "source": [
    "#### test area"
   ]
  },
  {
   "cell_type": "code",
   "execution_count": null,
   "id": "educational-element",
   "metadata": {},
   "outputs": [],
   "source": [
    "refe_stars[2], targ_stars[7]"
   ]
  },
  {
   "cell_type": "code",
   "execution_count": null,
   "id": "wired-musical",
   "metadata": {},
   "outputs": [],
   "source": [
    "refe_structures[2][0], targ_structures[7][0]"
   ]
  },
  {
   "cell_type": "markdown",
   "id": "promising-operation",
   "metadata": {},
   "source": [
    "okay ... by eyeball 2 and 7 are the same star, how to get this result from the feature array?"
   ]
  },
  {
   "cell_type": "code",
   "execution_count": null,
   "id": "dedicated-department",
   "metadata": {},
   "outputs": [],
   "source": [
    "refe_structures[2][1].shape, targ_structures[7][1].shape"
   ]
  },
  {
   "cell_type": "code",
   "execution_count": null,
   "id": "needed-british",
   "metadata": {},
   "outputs": [],
   "source": [
    "plt.scatter(*refe_structures[2][1].T)"
   ]
  },
  {
   "cell_type": "code",
   "execution_count": null,
   "id": "ruled-airplane",
   "metadata": {},
   "outputs": [],
   "source": [
    "plt.scatter(*targ_structures[7][1].T)"
   ]
  },
  {
   "cell_type": "markdown",
   "id": "sunset-gauge",
   "metadata": {},
   "source": [
    "try to represent 'correlation'"
   ]
  },
  {
   "cell_type": "code",
   "execution_count": null,
   "id": "ancient-advantage",
   "metadata": {},
   "outputs": [],
   "source": [
    "distance = []\n",
    "for r in refe_structures[2][1]:\n",
    "    for t in targ_structures[7][1]:\n",
    "        distance.append(np.linalg.norm(r - t))"
   ]
  },
  {
   "cell_type": "code",
   "execution_count": null,
   "id": "facial-quick",
   "metadata": {},
   "outputs": [],
   "source": [
    "t = np.array(distance)"
   ]
  },
  {
   "cell_type": "markdown",
   "id": "current-demonstration",
   "metadata": {},
   "source": [
    "find the characteristic of matched star feature array"
   ]
  },
  {
   "cell_type": "code",
   "execution_count": null,
   "id": "digital-governor",
   "metadata": {},
   "outputs": [],
   "source": [
    "t.std(), t.shape"
   ]
  },
  {
   "cell_type": "code",
   "execution_count": null,
   "id": "entire-reproduction",
   "metadata": {},
   "outputs": [],
   "source": [
    "plt.hist(t, bins=100, range=(-0.01, 0.05))"
   ]
  },
  {
   "cell_type": "markdown",
   "id": "initial-blind",
   "metadata": {},
   "source": [
    "find an appropriate function to 'weight' distance"
   ]
  },
  {
   "cell_type": "code",
   "execution_count": null,
   "id": "cubic-temperature",
   "metadata": {},
   "outputs": [],
   "source": [
    "x = np.linspace(0, 0.1, 1000)"
   ]
  },
  {
   "cell_type": "code",
   "execution_count": null,
   "id": "vocal-viking",
   "metadata": {},
   "outputs": [],
   "source": [
    "y = 2 / ( 1 + np.exp(np.power((80*x), 3)) )\n",
    "plt.plot(x, y)"
   ]
  },
  {
   "cell_type": "markdown",
   "id": "favorite-darkness",
   "metadata": {},
   "source": [
    "test run"
   ]
  },
  {
   "cell_type": "code",
   "execution_count": null,
   "id": "pressing-opportunity",
   "metadata": {},
   "outputs": [],
   "source": [
    "score = 2 / ( 1 + np.exp(np.power((80*t), 3)) )"
   ]
  },
  {
   "cell_type": "code",
   "execution_count": null,
   "id": "great-relay",
   "metadata": {},
   "outputs": [],
   "source": [
    "score.sum() / (len(refe_structures[2][1]) + len(targ_structures[7][1]))"
   ]
  },
  {
   "cell_type": "markdown",
   "id": "killing-duplicate",
   "metadata": {},
   "source": [
    "---\n",
    "---"
   ]
  },
  {
   "cell_type": "code",
   "execution_count": 11,
   "id": "piano-roads",
   "metadata": {},
   "outputs": [],
   "source": [
    "# def score_feature_correlation(\n",
    "#     f1: np.ndarray,\n",
    "#     f2: np.ndarray,\n",
    "#     weight_cliff_coeff: int = 80,\n",
    "# ) -> float:\n",
    "#     separation: list[float] = []\n",
    "#     for triangle_1 in f1:\n",
    "#         for triangle_2 in f2:\n",
    "#             separation.append(np.linalg.norm(triangle_2 - triangle_1))\n",
    "#     s = np.array(separation)\n",
    "#     normalized_separation = 2 / (1 + np.exp(\n",
    "#         np.power( (weight_cliff_coeff * s), 3 )\n",
    "#     ))\n",
    "#     return normalized_separation.sum() / (len(f1) + len(f2))\n",
    "\n",
    "def score_feature_correlation(\n",
    "    # the order of `f1` and `f2` does not matter\n",
    "    f1: np.ndarray,  # f1: SNx2A[ [angle, ratio] ]\n",
    "    f2: np.ndarray,  # f2: SMx2A[ [angle, ratio] ]\n",
    "    weight_cliff_coeff: int = 80,\n",
    ") -> float:\n",
    "    # prepare `f1` and `f2` to be in the 'cartesian product' shape 'S NMx2 A'\n",
    "    f1e = np.repeat(f1, len(f2), axis=0)\n",
    "    f2e = np.tile(f2, (len(f1), 1))\n",
    "\n",
    "    separation = np.linalg.norm(f2e - f1e, axis=1)\n",
    "    # normalized_separation = 2 / (\n",
    "    #     1 + np.exp(np.power(weight_cliff_coeff * separation, 3))\n",
    "    # )\n",
    "    normalized_separation = np.divide(\n",
    "        2,\n",
    "        np.add(\n",
    "            1,\n",
    "            np.exp(\n",
    "                np.power(\n",
    "                    np.multiply(weight_cliff_coeff, separation),\n",
    "                    3\n",
    "                )\n",
    "            )\n",
    "        )\n",
    "    )\n",
    "\n",
    "    return normalized_separation.sum() / (len(f1) + len(f2))"
   ]
  },
  {
   "cell_type": "markdown",
   "id": "contemporary-point",
   "metadata": {},
   "source": [
    "test robustness and pick threshold"
   ]
  },
  {
   "cell_type": "code",
   "execution_count": null,
   "id": "burning-chassis",
   "metadata": {},
   "outputs": [],
   "source": [
    "tsl = []"
   ]
  },
  {
   "cell_type": "code",
   "execution_count": null,
   "id": "standing-fruit",
   "metadata": {},
   "outputs": [],
   "source": [
    "for source in refe_structures:\n",
    "    for target in targ_structures:\n",
    "        tsl.append(score_feature_correlation(source[1], target[1]))"
   ]
  },
  {
   "cell_type": "code",
   "execution_count": null,
   "id": "loose-button",
   "metadata": {},
   "outputs": [],
   "source": [
    "plt.hist(tsl, bins=200)"
   ]
  },
  {
   "cell_type": "code",
   "execution_count": null,
   "id": "increased-writer",
   "metadata": {},
   "outputs": [],
   "source": [
    "plt.hist(tsl, bins=200, range=(0.1, 0.5))"
   ]
  },
  {
   "cell_type": "code",
   "execution_count": null,
   "id": "supposed-civilization",
   "metadata": {},
   "outputs": [],
   "source": [
    "(len(refe_structures),\n",
    " len(targ_structures),\n",
    " len(tsl),\n",
    " len(tuple(e for e in tsl if 0.3 < e)))"
   ]
  },
  {
   "cell_type": "markdown",
   "id": "taken-difference",
   "metadata": {},
   "source": [
    "---"
   ]
  },
  {
   "cell_type": "code",
   "execution_count": 12,
   "id": "lesbian-flower",
   "metadata": {},
   "outputs": [],
   "source": [
    "def find_star_pair(\n",
    "    reference_structures: list[tuple[\n",
    "        np.ndarray,  # S2A[x, y]; star centroid\n",
    "        np.ndarray,  # SNx2A[ [angle, ratio] ]; feature array\n",
    "    ]],\n",
    "    viewing_structures: list[tuple[np.ndarray, np.ndarray]],\n",
    "    match_score_threshold: float = 0.3,\n",
    ") -> list[tuple[\n",
    "    np.ndarray, np.ndarray  # star centroid\n",
    "]]:\n",
    "    vs = viewing_structures.copy()\n",
    "    refe_view_star_pair: list[tuple[np.ndarray, np.ndarray]] = []\n",
    "    for r in reference_structures:\n",
    "        match_list = []\n",
    "        for iv in range(len(vs)):\n",
    "            score = score_feature_correlation(r[1], vs[iv][1])\n",
    "            if match_score_threshold < score:\n",
    "                match_list.append( (vs[iv], iv, score) )\n",
    "        if len(match_list) == 0:\n",
    "            continue\n",
    "        # sort `match_list` by score, descending\n",
    "        match_list.sort(key=lambda e: e[2], reverse=True)\n",
    "        # select highest score match\n",
    "        refe_view_star_pair.append( (r[0], match_list[0][0][0]) )\n",
    "        # remove selected match from search list\n",
    "        vs.pop(match_list[0][1])\n",
    "    # TODO: raise error if `not (4 < refe_view_star_pair)`\n",
    "    return refe_view_star_pair"
   ]
  },
  {
   "cell_type": "code",
   "execution_count": 112,
   "id": "responsible-tractor",
   "metadata": {},
   "outputs": [
    {
     "name": "stderr",
     "output_type": "stream",
     "text": [
      "<ipython-input-11-a32a4e6c6080>:34: RuntimeWarning: overflow encountered in exp\n",
      "  np.exp(\n"
     ]
    }
   ],
   "source": [
    "refe_targ_star_pair = find_star_pair(refe_structures, targ_structures)"
   ]
  },
  {
   "cell_type": "code",
   "execution_count": 113,
   "id": "departmental-thanks",
   "metadata": {
    "scrolled": true
   },
   "outputs": [
    {
     "data": {
      "text/plain": [
       "91"
      ]
     },
     "execution_count": 113,
     "metadata": {},
     "output_type": "execute_result"
    }
   ],
   "source": [
    "len(refe_targ_star_pair)"
   ]
  },
  {
   "cell_type": "markdown",
   "id": "alpine-investing",
   "metadata": {},
   "source": [
    "## Star Align"
   ]
  },
  {
   "cell_type": "markdown",
   "id": "freelance-filename",
   "metadata": {},
   "source": [
    "prototype solve with sympy"
   ]
  },
  {
   "cell_type": "code",
   "execution_count": null,
   "id": "cultural-sewing",
   "metadata": {},
   "outputs": [],
   "source": [
    "import sympy as syp"
   ]
  },
  {
   "cell_type": "code",
   "execution_count": null,
   "id": "corrected-producer",
   "metadata": {},
   "outputs": [],
   "source": [
    "xr, yr, xv, yv = syp.symbols(r'x_r, y_r, x_v, y_v', real=True)\n",
    "m11, m12, m13 = syp.symbols(r'm_{11}, m_{12}, m_{13}', real=True)\n",
    "m21, m22, m23 = syp.symbols(r'm_{21}, m_{22}, m_{23}', real=True)\n",
    "m31, m32, m33 = syp.symbols(r'm_{31}, m_{32}, m_{33}', real=True)"
   ]
  },
  {
   "cell_type": "code",
   "execution_count": null,
   "id": "economic-physiology",
   "metadata": {},
   "outputs": [],
   "source": [
    "eq1 = (xr * (m31*xv + m32*yv + m33)) - (m11*xv + m12*yv + m13)\n",
    "eq2 = (yr * (m31*xv + m32*yv + m33)) - (m21*xv + m22*yv + m23)"
   ]
  },
  {
   "cell_type": "code",
   "execution_count": null,
   "id": "stable-awareness",
   "metadata": {
    "scrolled": false
   },
   "outputs": [],
   "source": [
    "eq1.expand()"
   ]
  },
  {
   "cell_type": "code",
   "execution_count": null,
   "id": "fitted-diagnosis",
   "metadata": {},
   "outputs": [],
   "source": [
    "eq2.expand()"
   ]
  },
  {
   "cell_type": "code",
   "execution_count": null,
   "id": "moving-sponsorship",
   "metadata": {},
   "outputs": [],
   "source": [
    "ts = random.choices(refe_targ_star_pair, k=4)\n",
    "eqs = []\n",
    "for pair in ts:\n",
    "    eqs.extend([\n",
    "        eq1.subs([ (m33, 1), (xr, pair[0][0]), (xv, pair[1][0]), (yv, pair[1][1]) ]),\n",
    "        eq2.subs([ (m33, 1), (yr, pair[0][1]), (xv, pair[1][0]), (yv, pair[1][1]) ]),\n",
    "    ])\n",
    "\n",
    "mij = syp.solve(\n",
    "    eqs,\n",
    "    (\n",
    "        m11, m12, m13,\n",
    "        m21, m22, m23,\n",
    "        m31, m32,\n",
    "    )\n",
    ")\n",
    "mij"
   ]
  },
  {
   "cell_type": "markdown",
   "id": "endless-magnet",
   "metadata": {},
   "source": [
    "---"
   ]
  },
  {
   "cell_type": "code",
   "execution_count": 156,
   "id": "crude-celtic",
   "metadata": {},
   "outputs": [],
   "source": [
    "def calculate_transformation_matrix(\n",
    "    refe_view_star_pair: list[tuple[np.ndarray, np.ndarray]],\n",
    "    sample_round: int = None,  # how many sample rounds, `None` for auto\n",
    ") -> np.ndarray:  # should return an array of 9 numbers\n",
    "    rng = np.random.default_rng()  # random number generator\n",
    "\n",
    "    # auto determine sample round\n",
    "    if sample_round is None:\n",
    "        sample_round = len(refe_view_star_pair)**2\n",
    "        # probability_of_not_all_coverage = 1 / 10**8\n",
    "        # sample_round = 1 + int(math.log(\n",
    "        #     probability_of_not_all_coverage,\n",
    "        #     1 - 4/len(refe_view_star_pair)\n",
    "        # ))\n",
    "\n",
    "    mij: list[np.ndarray] = []  # list[ S9A[m_{ij}] ]\n",
    "    for i in range(sample_round):\n",
    "        # sample 4 star pairs to do one round calculation of matrix\n",
    "        sample = rng.choice(\n",
    "            refe_view_star_pair,\n",
    "            size=4,\n",
    "            replace=False,\n",
    "            shuffle=False,\n",
    "        )\n",
    "\n",
    "        # xr*xv*m31 + xr*yv*m32 + xr*m33 - xv*m11 - yv*m12 - m13 = 0\n",
    "        # yr*xv*m31 + yr*yv*m32 + yr*m33 - xv*m21 - yv*m22 - m23 = 0\n",
    "        #\n",
    "        # [ [xr*xv, xr*yv, xr, -xv, -yv, -1,   0,   0,  0],  X [ m31,  = [ 0,\n",
    "        #   [yr*xv, yr*yv, yr,   0,   0,  0, -xv, -yv, -1] ]     m32,      0 ]\n",
    "        #                                                        m33,\n",
    "        #                                                        m11,\n",
    "        #                                                        m12,\n",
    "        #                                                        m13,\n",
    "        #                                                        m21,\n",
    "        #                                                        m22,\n",
    "        #                                                        m23 ]\n",
    "        #\n",
    "        # 4 set of pairs and take `m33 = 1`, then we have `Ax=b` as:\n",
    "        #\n",
    "        # [ [xr*xv, xr*yv, xr, -xv, -yv, -1,   0,   0,  0],    [ m31,    [ 0, \n",
    "        #   [yr*xv, yr*yv, yr,   0,   0,  0, -xv, -yv, -1],      m32,      0, \n",
    "        #   [xr*xv, xr*yv, xr, -xv, -yv, -1,   0,   0,  0],      m33,      0, \n",
    "        #   [yr*xv, yr*yv, yr,   0,   0,  0, -xv, -yv, -1],      m11,      0, \n",
    "        #   [xr*xv, xr*yv, xr, -xv, -yv, -1,   0,   0,  0],  X   m12,  =   0, \n",
    "        #   [yr*xv, yr*yv, yr,   0,   0,  0, -xv, -yv, -1],      m13,      0, \n",
    "        #   [xr*xv, xr*yv, xr, -xv, -yv, -1,   0,   0,  0],      m21,      0, \n",
    "        #   [yr*xv, yr*yv, yr,   0,   0,  0, -xv, -yv, -1],      m22,      0, \n",
    "        #   [    0,     0,  1,   0,   0,  0,   0,   0,  0] ]     m23 ]     1 ]\n",
    "        #\n",
    "        # (actually recommend to put the `1` for `m33 = 1` on the last column,\n",
    "        # otherwise numpy solve result might have float precision problem with\n",
    "        # `m33`, e.g. fluctuate around `1.0`)\n",
    "        #\n",
    "        # ---\n",
    "        #\n",
    "        # [xr*xv, xr*yv, xr, -xv, -yv, -1,   0,   0,  0] == (\n",
    "        #       [xr, xr, xr, -1, -1, -1, 0, 0, 0]\n",
    "        #     * [xv, yv,  1, xv, yv,  1, 0, 0, 0]\n",
    "        # )\n",
    "        # [yr*xv, yr*yv, yr,   0,   0,  0, -xv, -yv, -1] == (\n",
    "        #       [yr, yr, yr, 0, 0, 0, -1, -1, -1]\n",
    "        #     * [xv, yv,  1, 0, 0, 0, xv, yv,  1]\n",
    "        # )\n",
    "        #\n",
    "        # =>\n",
    "        #\n",
    "        # [ [xr*xv, xr*yv, xr, -xv, -yv, -1,   0,   0,  0],\n",
    "        #   [yr*xv, yr*yv, yr,   0,   0,  0, -xv, -yv, -1] ]\n",
    "        # ==\n",
    "        # [ [xr, xr, xr, -1, -1, -1, 0, 0, 0],\n",
    "        #   [yr, yr, yr, 0, 0, 0, -1, -1, -1] ]\n",
    "        # *\n",
    "        # [ [xv, yv, 1, xv, yv, 1,  0,  0, 0],\n",
    "        #   [xv, yv, 1,  0,  0, 0, xv, yv, 1] ]\n",
    "\n",
    "        # compose the `A` of `Ax=b`\n",
    "        A1, A2 = [], []\n",
    "        for p in sample:\n",
    "            A1.extend([\n",
    "                [ -1, -1, -1,     0, 0, 0,  p[0][0], p[0][0], p[0][0] ],\n",
    "                [    0, 0, 0,  -1, -1, -1,  p[0][1], p[0][1], p[0][1] ]\n",
    "            ])\n",
    "            A2.extend([\n",
    "                [ p[1][0], p[1][1], 1,              0, 0, 0,  p[1][0], p[1][1], 1 ],\n",
    "                [             0, 0, 0,  p[1][0], p[1][1], 1,  p[1][0], p[1][1], 1 ]\n",
    "            ])\n",
    "        A1, A2 = np.array(A1), np.array(A2)\n",
    "\n",
    "        # add extra row for `m33=1`\n",
    "        A = np.vstack(\n",
    "            (\n",
    "                A1 * A2,\n",
    "                np.hstack( (np.zeros((1, 8), dtype=int), np.array([[1]])) )\n",
    "            )\n",
    "        )\n",
    "\n",
    "        # compose `b`\n",
    "        b = np.hstack(\n",
    "            ( np.zeros(8, dtype=int), np.array([1]) )\n",
    "        )\n",
    "\n",
    "        # solve for set of m_{ij} and append the result\n",
    "        mij.append(np.linalg.solve(A, b))\n",
    "    mij = np.array(mij)  # SNx9A[ [m_{ij}] ]; N = sample_round\n",
    "\n",
    "    # mij might have a lot of outliers, aka large std,\n",
    "    # we need to filter it before calculate its mean.\n",
    "    # `vc` for 'validity_criterion'\n",
    "    vc_max_std = 1\n",
    "    vc_min_used_round = sample_round // 3\n",
    "\n",
    "    fmij = mij.view()\n",
    "    while vc_max_std < fmij.std(axis=0).max():\n",
    "        # mean and std for each m_{ij} over all sets\n",
    "        m, s = fmij.mean(axis=0), fmij.std(axis=0)  # S9A[m_{ij}]\n",
    "        fmij = fmij[\n",
    "            np.logical_or(  # SNx9A\n",
    "                np.logical_and(  # SNx9A\n",
    "                    # check for each m_{ij} in each set if it falls within m+-s\n",
    "                    np.less_equal(m - s, fmij),\n",
    "                    np.less_equal(fmij, m + s)\n",
    "                ),\n",
    "                # treat the result of `m33` as always valid, since it might\n",
    "                # fluctuate around `1.0` very slightly (when not put at the\n",
    "                # last column)\n",
    "                np.hstack( (np.full(8, False), np.full(1, True)) )  # S9A\n",
    "            # only keep sets that have all m_{ij} within m+-s\n",
    "            ).all(axis=1)  # SNA\n",
    "        ]\n",
    "    if fmij.shape[0] < vc_min_used_round:\n",
    "        raise Exception('Can not achieve valid transformation matrix.')\n",
    "\n",
    "    # TODO: fmij seems to have two (or multiple?) very close peaks, and they\n",
    "    # are not symmetric.  What could it be??\n",
    "    return fmij#.mean(axis=0)"
   ]
  },
  {
   "cell_type": "code",
   "execution_count": 137,
   "id": "blocked-senegal",
   "metadata": {
    "collapsed": true
   },
   "outputs": [
    {
     "data": {
      "text/plain": [
       "2672670"
      ]
     },
     "execution_count": 137,
     "metadata": {},
     "output_type": "execute_result"
    }
   ],
   "source": [
    "math.comb(len(refe_targ_star_pair), 4)"
   ]
  },
  {
   "cell_type": "code",
   "execution_count": 138,
   "id": "treated-region",
   "metadata": {
    "collapsed": true
   },
   "outputs": [
    {
     "data": {
      "text/plain": [
       "1634.8302664191167"
      ]
     },
     "execution_count": 138,
     "metadata": {},
     "output_type": "execute_result"
    }
   ],
   "source": [
    "math.sqrt(2672670)"
   ]
  },
  {
   "cell_type": "code",
   "execution_count": 150,
   "id": "square-approach",
   "metadata": {
    "collapsed": true
   },
   "outputs": [],
   "source": [
    "mij1 = calculate_transformation_matrix(refe_targ_star_pair)\n",
    "mij2 = calculate_transformation_matrix(refe_targ_star_pair, sample_round=10000)"
   ]
  },
  {
   "cell_type": "code",
   "execution_count": 151,
   "id": "simple-corps",
   "metadata": {
    "collapsed": true
   },
   "outputs": [
    {
     "data": {
      "text/plain": [
       "(array([154.19974796,  51.15971396]), array([0.56497854, 0.50827719]), 4966)"
      ]
     },
     "execution_count": 151,
     "metadata": {},
     "output_type": "execute_result"
    }
   ],
   "source": [
    "mij1.mean(axis=0)[[2, 5]], mij1.std(axis=0)[[2, 5]], mij1.shape[0]"
   ]
  },
  {
   "cell_type": "code",
   "execution_count": 152,
   "id": "peripheral-asbestos",
   "metadata": {
    "collapsed": true
   },
   "outputs": [
    {
     "data": {
      "text/plain": [
       "(array([154.19784648,  51.16630984]), array([0.61039855, 0.54345692]), 6276)"
      ]
     },
     "execution_count": 152,
     "metadata": {},
     "output_type": "execute_result"
    }
   ],
   "source": [
    "mij2.mean(axis=0)[[2, 5]], mij2.std(axis=0)[[2, 5]], mij2.shape[0]"
   ]
  },
  {
   "cell_type": "code",
   "execution_count": 153,
   "id": "different-movement",
   "metadata": {
    "collapsed": true
   },
   "outputs": [
    {
     "data": {
      "text/plain": [
       "(array([  3.,   4.,   8.,   0.,   2.,   1.,   1.,   2.,   3.,   2.,   4.,\n",
       "          4.,   4.,   2.,   4.,   1.,   4.,   3.,   3.,   3.,   7.,   2.,\n",
       "          1.,   4.,   1.,   8.,   6.,   3.,   5.,   3.,   4.,   6.,   6.,\n",
       "          3.,   5.,   3.,   6.,   9.,   6.,   4.,   5.,   3.,   7.,  10.,\n",
       "          6.,   6.,   7.,   4.,   9.,   9.,   3.,   7.,  15.,  11.,   9.,\n",
       "          8.,   6.,  11.,  12.,  15.,  12.,   7.,  13.,  14.,  17.,  16.,\n",
       "         18.,  13.,  22.,  22.,  13.,  25.,  26.,  24.,  27.,  33.,  30.,\n",
       "         25.,  19.,  17.,  35.,  45.,  38.,  39.,  49.,  40.,  59.,  53.,\n",
       "         88., 111.,  64.,  82.,  88.,  83.,  86.,  99., 103.,  84., 100.,\n",
       "         83., 100., 109.,  96., 104., 114., 107., 124., 104.,  91.,  97.,\n",
       "         87.,  82.,  76.,  82.,  57.,  57.,  59.,  64.,  66.,  51.,  75.,\n",
       "         59.,  61.,  53.,  51.,  47.,  51.,  47.,  35.,  22.,  39.,  29.,\n",
       "         23.,  24.,  17.,  16.,  14.,  26.,  22.,  22.,  21.,  12.,  16.,\n",
       "         13.,  12.,   9.,  11.,  14.,  16.,  10.,   8.,   9.,  11.,  13.,\n",
       "         10.,   5.,   7.,   7.,  11.,   9.,   7.,   3.,   6.,   5.,   3.,\n",
       "          4.,   9.,   5.,   2.,   5.,   5.,   6.,   7.,   4.,   2.,   5.,\n",
       "          3.,   3.,   4.,   3.,   5.,   3.,   4.,   3.,   7.,   2.,   2.,\n",
       "          5.,   1.,   4.,   1.,   6.,   1.,   1.,   3.,   3.,   1.,   1.,\n",
       "          2.,   1.]),\n",
       " array([152.1269326 , 152.14706237, 152.16719214, 152.1873219 ,\n",
       "        152.20745167, 152.22758144, 152.24771121, 152.26784097,\n",
       "        152.28797074, 152.30810051, 152.32823027, 152.34836004,\n",
       "        152.36848981, 152.38861957, 152.40874934, 152.42887911,\n",
       "        152.44900888, 152.46913864, 152.48926841, 152.50939818,\n",
       "        152.52952794, 152.54965771, 152.56978748, 152.58991724,\n",
       "        152.61004701, 152.63017678, 152.65030655, 152.67043631,\n",
       "        152.69056608, 152.71069585, 152.73082561, 152.75095538,\n",
       "        152.77108515, 152.79121491, 152.81134468, 152.83147445,\n",
       "        152.85160422, 152.87173398, 152.89186375, 152.91199352,\n",
       "        152.93212328, 152.95225305, 152.97238282, 152.99251259,\n",
       "        153.01264235, 153.03277212, 153.05290189, 153.07303165,\n",
       "        153.09316142, 153.11329119, 153.13342095, 153.15355072,\n",
       "        153.17368049, 153.19381026, 153.21394002, 153.23406979,\n",
       "        153.25419956, 153.27432932, 153.29445909, 153.31458886,\n",
       "        153.33471862, 153.35484839, 153.37497816, 153.39510793,\n",
       "        153.41523769, 153.43536746, 153.45549723, 153.47562699,\n",
       "        153.49575676, 153.51588653, 153.53601629, 153.55614606,\n",
       "        153.57627583, 153.5964056 , 153.61653536, 153.63666513,\n",
       "        153.6567949 , 153.67692466, 153.69705443, 153.7171842 ,\n",
       "        153.73731396, 153.75744373, 153.7775735 , 153.79770327,\n",
       "        153.81783303, 153.8379628 , 153.85809257, 153.87822233,\n",
       "        153.8983521 , 153.91848187, 153.93861163, 153.9587414 ,\n",
       "        153.97887117, 153.99900094, 154.0191307 , 154.03926047,\n",
       "        154.05939024, 154.07952   , 154.09964977, 154.11977954,\n",
       "        154.1399093 , 154.16003907, 154.18016884, 154.20029861,\n",
       "        154.22042837, 154.24055814, 154.26068791, 154.28081767,\n",
       "        154.30094744, 154.32107721, 154.34120698, 154.36133674,\n",
       "        154.38146651, 154.40159628, 154.42172604, 154.44185581,\n",
       "        154.46198558, 154.48211534, 154.50224511, 154.52237488,\n",
       "        154.54250465, 154.56263441, 154.58276418, 154.60289395,\n",
       "        154.62302371, 154.64315348, 154.66328325, 154.68341301,\n",
       "        154.70354278, 154.72367255, 154.74380232, 154.76393208,\n",
       "        154.78406185, 154.80419162, 154.82432138, 154.84445115,\n",
       "        154.86458092, 154.88471068, 154.90484045, 154.92497022,\n",
       "        154.94509999, 154.96522975, 154.98535952, 155.00548929,\n",
       "        155.02561905, 155.04574882, 155.06587859, 155.08600835,\n",
       "        155.10613812, 155.12626789, 155.14639766, 155.16652742,\n",
       "        155.18665719, 155.20678696, 155.22691672, 155.24704649,\n",
       "        155.26717626, 155.28730602, 155.30743579, 155.32756556,\n",
       "        155.34769533, 155.36782509, 155.38795486, 155.40808463,\n",
       "        155.42821439, 155.44834416, 155.46847393, 155.48860369,\n",
       "        155.50873346, 155.52886323, 155.548993  , 155.56912276,\n",
       "        155.58925253, 155.6093823 , 155.62951206, 155.64964183,\n",
       "        155.6697716 , 155.68990137, 155.71003113, 155.7301609 ,\n",
       "        155.75029067, 155.77042043, 155.7905502 , 155.81067997,\n",
       "        155.83080973, 155.8509395 , 155.87106927, 155.89119904,\n",
       "        155.9113288 , 155.93145857, 155.95158834, 155.9717181 ,\n",
       "        155.99184787, 156.01197764, 156.0321074 , 156.05223717,\n",
       "        156.07236694, 156.09249671, 156.11262647, 156.13275624,\n",
       "        156.15288601]),\n",
       " <BarContainer object of 200 artists>)"
      ]
     },
     "execution_count": 153,
     "metadata": {},
     "output_type": "execute_result"
    },
    {
     "data": {
      "image/png": "[encoded data removed]",
      "text/plain": [
       "<Figure size 432x288 with 1 Axes>"
      ]
     },
     "metadata": {
      "needs_background": "light"
     },
     "output_type": "display_data"
    }
   ],
   "source": [
    "plt.hist(mij1.T[2], bins=200)"
   ]
  },
  {
   "cell_type": "code",
   "execution_count": 154,
   "id": "trying-palestine",
   "metadata": {
    "collapsed": true
   },
   "outputs": [
    {
     "data": {
      "text/plain": [
       "(array([  3.,   2.,   1.,   0.,   1.,   0.,   1.,   4.,   1.,   4.,   4.,\n",
       "          6.,   4.,   6.,   1.,   2.,   2.,   2.,   3.,   7.,   5.,   4.,\n",
       "          4.,   8.,   1.,   0.,   5.,   6.,   4.,   3.,   6.,   6.,   7.,\n",
       "          5.,   9.,   5.,   2.,  10.,   4.,   7.,  12.,  13.,   7.,   7.,\n",
       "          9.,   3.,  16.,  10.,  11.,   5.,  11.,  10.,   8.,  14.,  10.,\n",
       "         11.,  13.,  13.,  12.,  14.,  18.,  13.,  14.,  11.,  13.,  21.,\n",
       "         19.,  20.,  12.,  20.,  23.,  27.,  29.,  30.,  35.,  23.,  25.,\n",
       "         28.,  32.,  31.,  36.,  39.,  38.,  44.,  40.,  59.,  50.,  57.,\n",
       "         59.,  65.,  78., 116., 160., 139.,  87., 107., 103., 107., 119.,\n",
       "        113., 125., 117., 127., 132., 121., 150., 144., 157., 156., 156.,\n",
       "        118., 114.,  92., 123., 116.,  99.,  84., 108.,  89.,  97.,  85.,\n",
       "         94.,  61.,  79.,  79.,  69.,  73.,  52.,  51.,  55.,  37.,  34.,\n",
       "         32.,  30.,  23.,  27.,  33.,  18.,  18.,  19.,  19.,  21.,  17.,\n",
       "         21.,  14.,  10.,  11.,  17.,  11.,  16.,  20.,   8.,   8.,  14.,\n",
       "         20.,   7.,  10.,  13.,  13.,   9.,   9.,   7.,   6.,   8.,   1.,\n",
       "         11.,   4.,   2.,   8.,   8.,   8.,   4.,   5.,   9.,   8.,   4.,\n",
       "          3.,   4.,   3.,   5.,   8.,   0.,   2.,   3.,   2.,   3.,   5.,\n",
       "          1.,   3.,   2.,   3.,   2.,   4.,   2.,   3.,   4.,   3.,   4.,\n",
       "          4.,   4.]),\n",
       " array([151.83640756, 151.85897432, 151.88154108, 151.90410784,\n",
       "        151.9266746 , 151.94924137, 151.97180813, 151.99437489,\n",
       "        152.01694165, 152.03950841, 152.06207517, 152.08464194,\n",
       "        152.1072087 , 152.12977546, 152.15234222, 152.17490898,\n",
       "        152.19747574, 152.22004251, 152.24260927, 152.26517603,\n",
       "        152.28774279, 152.31030955, 152.33287631, 152.35544308,\n",
       "        152.37800984, 152.4005766 , 152.42314336, 152.44571012,\n",
       "        152.46827688, 152.49084365, 152.51341041, 152.53597717,\n",
       "        152.55854393, 152.58111069, 152.60367745, 152.62624422,\n",
       "        152.64881098, 152.67137774, 152.6939445 , 152.71651126,\n",
       "        152.73907803, 152.76164479, 152.78421155, 152.80677831,\n",
       "        152.82934507, 152.85191183, 152.8744786 , 152.89704536,\n",
       "        152.91961212, 152.94217888, 152.96474564, 152.9873124 ,\n",
       "        153.00987917, 153.03244593, 153.05501269, 153.07757945,\n",
       "        153.10014621, 153.12271297, 153.14527974, 153.1678465 ,\n",
       "        153.19041326, 153.21298002, 153.23554678, 153.25811354,\n",
       "        153.28068031, 153.30324707, 153.32581383, 153.34838059,\n",
       "        153.37094735, 153.39351411, 153.41608088, 153.43864764,\n",
       "        153.4612144 , 153.48378116, 153.50634792, 153.52891468,\n",
       "        153.55148145, 153.57404821, 153.59661497, 153.61918173,\n",
       "        153.64174849, 153.66431525, 153.68688202, 153.70944878,\n",
       "        153.73201554, 153.7545823 , 153.77714906, 153.79971582,\n",
       "        153.82228259, 153.84484935, 153.86741611, 153.88998287,\n",
       "        153.91254963, 153.93511639, 153.95768316, 153.98024992,\n",
       "        154.00281668, 154.02538344, 154.0479502 , 154.07051697,\n",
       "        154.09308373, 154.11565049, 154.13821725, 154.16078401,\n",
       "        154.18335077, 154.20591754, 154.2284843 , 154.25105106,\n",
       "        154.27361782, 154.29618458, 154.31875134, 154.34131811,\n",
       "        154.36388487, 154.38645163, 154.40901839, 154.43158515,\n",
       "        154.45415191, 154.47671868, 154.49928544, 154.5218522 ,\n",
       "        154.54441896, 154.56698572, 154.58955248, 154.61211925,\n",
       "        154.63468601, 154.65725277, 154.67981953, 154.70238629,\n",
       "        154.72495305, 154.74751982, 154.77008658, 154.79265334,\n",
       "        154.8152201 , 154.83778686, 154.86035362, 154.88292039,\n",
       "        154.90548715, 154.92805391, 154.95062067, 154.97318743,\n",
       "        154.99575419, 155.01832096, 155.04088772, 155.06345448,\n",
       "        155.08602124, 155.108588  , 155.13115476, 155.15372153,\n",
       "        155.17628829, 155.19885505, 155.22142181, 155.24398857,\n",
       "        155.26655533, 155.2891221 , 155.31168886, 155.33425562,\n",
       "        155.35682238, 155.37938914, 155.4019559 , 155.42452267,\n",
       "        155.44708943, 155.46965619, 155.49222295, 155.51478971,\n",
       "        155.53735648, 155.55992324, 155.58249   , 155.60505676,\n",
       "        155.62762352, 155.65019028, 155.67275705, 155.69532381,\n",
       "        155.71789057, 155.74045733, 155.76302409, 155.78559085,\n",
       "        155.80815762, 155.83072438, 155.85329114, 155.8758579 ,\n",
       "        155.89842466, 155.92099142, 155.94355819, 155.96612495,\n",
       "        155.98869171, 156.01125847, 156.03382523, 156.05639199,\n",
       "        156.07895876, 156.10152552, 156.12409228, 156.14665904,\n",
       "        156.1692258 , 156.19179256, 156.21435933, 156.23692609,\n",
       "        156.25949285, 156.28205961, 156.30462637, 156.32719313,\n",
       "        156.3497599 ]),\n",
       " <BarContainer object of 200 artists>)"
      ]
     },
     "execution_count": 154,
     "metadata": {},
     "output_type": "execute_result"
    },
    {
     "data": {
      "image/png": "[encoded data removed]",
      "text/plain": [
       "<Figure size 432x288 with 1 Axes>"
      ]
     },
     "metadata": {
      "needs_background": "light"
     },
     "output_type": "display_data"
    }
   ],
   "source": [
    "plt.hist(mij2.T[2], bins=200)"
   ]
  },
  {
   "cell_type": "code",
   "execution_count": 158,
   "id": "architectural-peter",
   "metadata": {},
   "outputs": [],
   "source": [
    "M = mij1.mean(axis=0)"
   ]
  },
  {
   "cell_type": "code",
   "execution_count": 160,
   "id": "structural-difficulty",
   "metadata": {
    "scrolled": true
   },
   "outputs": [
    {
     "data": {
      "text/plain": [
       "array([[ 9.90053328e-01, -8.86546588e-03,  1.54199748e+02],\n",
       "       [ 2.89164337e-03,  9.92662425e-01,  5.11597140e+01],\n",
       "       [-2.09567431e-06, -8.81763402e-07,  1.00000000e+00]])"
      ]
     },
     "execution_count": 160,
     "metadata": {},
     "output_type": "execute_result"
    }
   ],
   "source": [
    "M.reshape(3, 3)"
   ]
  },
  {
   "cell_type": "code",
   "execution_count": null,
   "id": "simple-blues",
   "metadata": {},
   "outputs": [],
   "source": []
  },
  {
   "cell_type": "code",
   "execution_count": null,
   "id": "blank-warrior",
   "metadata": {},
   "outputs": [],
   "source": []
  },
  {
   "cell_type": "markdown",
   "id": "labeled-pittsburgh",
   "metadata": {},
   "source": [
    "## Image Debug Area"
   ]
  },
  {
   "cell_type": "code",
   "execution_count": 102,
   "id": "disabled-falls",
   "metadata": {},
   "outputs": [],
   "source": [
    "def cvshow(name: str, image: np.ndarray):\n",
    "    cv.namedWindow(name, cv.WINDOW_NORMAL)\n",
    "    cv.resizeWindow(name, 1000, 1000)\n",
    "    cv.moveWindow(name, 130, 20)\n",
    "    cv.imshow(name, image)"
   ]
  },
  {
   "cell_type": "code",
   "execution_count": null,
   "id": "worst-twelve",
   "metadata": {},
   "outputs": [],
   "source": []
  },
  {
   "cell_type": "code",
   "execution_count": 103,
   "id": "administrative-spine",
   "metadata": {},
   "outputs": [],
   "source": [
    "rtimg = cv.cvtColor(\n",
    "    (refe_gray * (np.iinfo(np.uint8).max / np.iinfo(np.uint16).max)).astype(np.uint8),\n",
    "    cv.COLOR_GRAY2BGR,\n",
    ")\n",
    "for c in tuple(e[0] for e in refe_stars):\n",
    "    cv.drawMarker(rtimg, tuple(int(e) for e in c), (0, 0, 255))"
   ]
  },
  {
   "cell_type": "code",
   "execution_count": 104,
   "id": "secondary-roommate",
   "metadata": {},
   "outputs": [],
   "source": [
    "ttimg = cv.cvtColor(\n",
    "    (targ_gray * (np.iinfo(np.uint8).max / np.iinfo(np.uint16).max)).astype(np.uint8),\n",
    "    cv.COLOR_GRAY2BGR,\n",
    ")\n",
    "for c in tuple(e[0] for e in targ_stars):\n",
    "    cv.drawMarker(ttimg, tuple(int(e) for e in c), (0, 0, 255))"
   ]
  },
  {
   "cell_type": "code",
   "execution_count": null,
   "id": "entertaining-supplier",
   "metadata": {},
   "outputs": [],
   "source": []
  },
  {
   "cell_type": "code",
   "execution_count": 161,
   "id": "quick-complaint",
   "metadata": {},
   "outputs": [],
   "source": [
    "# cvshow('refe_photo', refe_photo)\n",
    "# cvshow('refe_photo_g', refe_photo_g)\n",
    "# [1844:2044, 1844:2044]\n",
    "# [1744:2144, 1744:2144]\n",
    "# [1444:2444, 1444:2444]\n",
    "\n",
    "\n",
    "# cvshow('refe gray', refe_gray)\n",
    "cvshow('refe wlred', refe_wlred)\n",
    "cvshow('rtimg', rtimg)\n",
    "\n",
    "# cvshow('targ gray', targ_gray)\n",
    "cvshow('targ wlred', targ_wlred)\n",
    "cvshow('ttimg', ttimg)\n",
    "\n",
    "\n",
    "# [2500:2550, 125:175]\n",
    "# cvshow('refe gray', refe_gray[1175:1425,3325:3575])\n",
    "cvshow('refe wlred', refe_wlred[1175:1425,3325:3575])\n",
    "cvshow('rtimg', rtimg[1175:1425,3325:3575])\n",
    "\n",
    "# cvshow('targ gray', targ_gray[1140:1390,3260:3510])\n",
    "cvshow('targ wlred', targ_wlred[1140:1390,3260:3510])\n",
    "cvshow('ttimg', ttimg[1140:1390,3260:3510])\n",
    "\n",
    "\n",
    "cv.waitKey(0)\n",
    "cv.destroyAllWindows()"
   ]
  },
  {
   "cell_type": "code",
   "execution_count": 171,
   "id": "skilled-logistics",
   "metadata": {},
   "outputs": [
    {
     "data": {
      "text/plain": [
       "(3888, 3888, 3)"
      ]
     },
     "execution_count": 171,
     "metadata": {},
     "output_type": "execute_result"
    }
   ],
   "source": [
    "targ.shape"
   ]
  },
  {
   "cell_type": "code",
   "execution_count": 175,
   "id": "actual-sample",
   "metadata": {},
   "outputs": [],
   "source": [
    "cvshow('targ', targ)\n",
    "cvshow('targ transformed', cv.warpPerspective(targ, M.reshape(3, 3), targ.shape[:2]))\n",
    "cvshow('refe', refe)\n",
    "\n",
    "\n",
    "cv.waitKey(0)\n",
    "cv.destroyAllWindows()"
   ]
  },
  {
   "cell_type": "code",
   "execution_count": 173,
   "id": "isolated-ranch",
   "metadata": {},
   "outputs": [],
   "source": [
    "cv.waitKey(0)\n",
    "cv.destroyAllWindows()"
   ]
  }
 ],
 "metadata": {
  "kernelspec": {
   "display_name": "Python 3",
   "language": "python",
   "name": "python3"
  },
  "language_info": {
   "codemirror_mode": {
    "name": "ipython",
    "version": 3
   },
   "file_extension": ".py",
   "mimetype": "text/x-python",
   "name": "python",
   "nbconvert_exporter": "python",
   "pygments_lexer": "ipython3",
   "version": "3.8.6"
  }
 },
 "nbformat": 4,
 "nbformat_minor": 5
}
